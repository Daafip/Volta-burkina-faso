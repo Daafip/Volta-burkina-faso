{
 "cells": [
  {
   "cell_type": "markdown",
   "id": "b3466d89",
   "metadata": {},
   "source": [
    "import packages"
   ]
  },
  {
   "cell_type": "code",
   "execution_count": 1,
   "id": "5d507997",
   "metadata": {},
   "outputs": [],
   "source": [
    "import glob\n",
    "import os\n",
    "\n",
    "# data/plot management\n",
    "import pandas as pd\n",
    "import matplotlib\n",
    "import matplotlib.pyplot as plt\n",
    "import numpy as np\n",
    "\n",
    "import warnings\n",
    "\n",
    "# plotting/mapmaknig\n",
    "import geopandas as gpd\n",
    "from geospatial_functions import get_background_map\n",
    "import rasterio\n",
    "from rasterio.plot import show as rioshow\n",
    "import folium\n",
    "\n",
    "# adding 'custom script' \n",
    "#Ensure the [Pyeto](https://github.com/woodcrafty/PyETo) package is present in your \n",
    "# \"C:\\Users\\{USERNAME}\\anaconda3\\envs\\{ENVIRONMENT}\\Lib\\\",or \"C:\\Users\\{USERNAME}\\anaconda3\\Lib\\\",\n",
    "from pyeto import thornthwaite, monthly_mean_daylight_hours, deg2rad\n",
    "\n",
    "from scipy.optimize import root\n",
    "\n",
    "warnings.simplefilter('ignore')"
   ]
  },
  {
   "cell_type": "markdown",
   "id": "b50cab61",
   "metadata": {},
   "source": [
    "add some useful paths to navigate shared storage:"
   ]
  },
  {
   "cell_type": "code",
   "execution_count": 2,
   "id": "177ba807",
   "metadata": {},
   "outputs": [],
   "source": [
    "path = os.getcwd()\n",
    "home_path = os.path.dirname(path)\n",
    "main_folder = os.path.dirname(home_path)\n",
    "\n",
    "gis_folder = f'{main_folder}\\\\QGIS project'"
   ]
  },
  {
   "cell_type": "markdown",
   "id": "cb4fc95d",
   "metadata": {},
   "source": [
    "add some spatial data"
   ]
  },
  {
   "cell_type": "code",
   "execution_count": 3,
   "id": "72bdeac8",
   "metadata": {},
   "outputs": [],
   "source": [
    "country_outline = gpd.read_file(f\"{gis_folder}\\\\country_outline_32630.gpkg\")\n",
    "volta_outline = gpd.read_file(f\"{gis_folder}\\\\volta_watershed_vector_32630.gpkg\",crs=\"epsg:32630\")\n",
    "main_rivers = gpd.read_file(f\"{gis_folder}\\\\main_rivers_volta.gpkg\",crs=\"epsg:32630\")\n",
    "\n",
    "country_outline = country_outline.set_geometry(country_outline.geometry.to_crs('EPSG:4326'))\n",
    "volta_outline = volta_outline.set_geometry(volta_outline.geometry.to_crs('EPSG:4326'))\n",
    "main_rivers = main_rivers.set_geometry(main_rivers.geometry.to_crs('EPSG:4326'))\n",
    "\n",
    "gdf_discharge_client = gpd.read_file('discharge_data_client.geojson',crs=\"EPSG:4326\")\n",
    "gdf_discharge_client['name'] = gdf_discharge_client.apply(lambda x: x['name'].split(\",\")[-1][:-4].strip().lower(),axis=1)"
   ]
  },
  {
   "cell_type": "markdown",
   "id": "6014e2bf",
   "metadata": {},
   "source": [
    "# make general:"
   ]
  },
  {
   "cell_type": "markdown",
   "id": "ff1f1c73",
   "metadata": {},
   "source": [
    "#### load precipitation data from analysis"
   ]
  },
  {
   "cell_type": "code",
   "execution_count": 4,
   "id": "a21cf2af",
   "metadata": {},
   "outputs": [
    {
     "data": {
      "text/plain": [
       "Index(['Black_Volta', 'Mouhoun', 'Nakambe', 'Penjari'], dtype='object')"
      ]
     },
     "execution_count": 4,
     "metadata": {},
     "output_type": "execute_result"
    }
   ],
   "source": [
    "Rainfall_BF_msum = pd.read_excel(\"Monthly_sum_rainfall.xlsx\",index_col=0)\n",
    "Rainfall_BF_msum.columns"
   ]
  },
  {
   "cell_type": "markdown",
   "id": "8d0aa084",
   "metadata": {},
   "source": [
    "#### load discharge data from analysis"
   ]
  },
  {
   "cell_type": "code",
   "execution_count": 5,
   "id": "dbc91b1d",
   "metadata": {},
   "outputs": [],
   "source": [
    "names = ['black volta, vonkoro',\n",
    "         'bougouriba, dan',\n",
    "         'mou houn, black volta, samandeni',\n",
    "         'mou houn, black volta,dapola',\n",
    "         'nakanbe, white volta, yakala',\n",
    "         'nakanbe, white volta, yilou',\n",
    "         'nazinon, red volta, dakaye',\n",
    "         'pendjari, porga',\n",
    "         'singou, samboali']"
   ]
  },
  {
   "cell_type": "markdown",
   "id": "5d4237f3",
   "metadata": {},
   "source": [
    "need a dictionary to link discharge to precipitation stations"
   ]
  },
  {
   "cell_type": "code",
   "execution_count": 6,
   "id": "c6407a39",
   "metadata": {},
   "outputs": [],
   "source": [
    "q_p_linking_dictionary = {'black volta, vonkoro': 'Black_Volta',\n",
    "                          'bougouriba, dan': 'Mouhoun',\n",
    "                          'mou houn, black volta, samandeni': 'Mouhoun',\n",
    "                          'mou houn, black volta,dapola': 'Black_Volta',\n",
    "                          'nakanbe, white volta, yakala': 'Nakambe',\n",
    "                          'nakanbe, white volta, yilou': 'Nakambe',\n",
    "                          'nazinon, red volta, dakaye': 'Nakambe',\n",
    "                          'pendjari, porga': 'Penjari',\n",
    "                          'singou, samboali': 'Penjari'}"
   ]
  },
  {
   "cell_type": "code",
   "execution_count": 7,
   "id": "90ad1925",
   "metadata": {},
   "outputs": [],
   "source": [
    "df_discharge_per_location_lst = []\n",
    "for name in names:\n",
    "    df_discharge = pd.read_excel(f\"{home_path}\\\\Combining data\\\\{name}.xlsx\",index_col=0)\n",
    "    df_discharge_per_location_lst.append(df_discharge)"
   ]
  },
  {
   "cell_type": "markdown",
   "id": "f9b83240",
   "metadata": {},
   "source": [
    "## Q"
   ]
  },
  {
   "cell_type": "code",
   "execution_count": 8,
   "id": "33155cab",
   "metadata": {},
   "outputs": [],
   "source": [
    "df_discharge_lst = []\n",
    "for index, df in enumerate(df_discharge_per_location_lst):\n",
    "    name = names[index]\n",
    "    df_discharge_location = df_discharge_per_location_lst[index].rename(columns={name:\"Q\"})\n",
    "    # get month with data\n",
    "    months_with_data = df_discharge_location.apply(lambda x: f'{x.name.month}-{x.name.year}', axis=1).unique()\n",
    "    \n",
    "    # get monthly sum\n",
    "    df_discharge = df_discharge_location.resample('M').sum()\n",
    "    \n",
    "    # do indexing magic to discard non-data-eyars\n",
    "    df_discharge['timestamp'] = df_discharge.apply(lambda x: x.name, axis=1)\n",
    "    df_discharge.index = df_discharge.apply(lambda x: f'{x.name.month}-{x.name.year}', axis=1)\n",
    "    df_discharge = df_discharge.loc[months_with_data]\n",
    "    df_discharge.index = df_discharge['timestamp']\n",
    "    df_discharge.drop(columns=\"timestamp\",inplace=True)\n",
    "    df_discharge.Q = df_discharge.apply(lambda x: x.Q * x.name.days_in_month * 24 * 3600 , axis=1)\n",
    "    df_discharge_lst.append(df_discharge)\n"
   ]
  },
  {
   "cell_type": "markdown",
   "id": "4dca9c30",
   "metadata": {},
   "source": [
    "## E"
   ]
  },
  {
   "cell_type": "code",
   "execution_count": 9,
   "id": "65aa4e47",
   "metadata": {},
   "outputs": [],
   "source": [
    "df_temperature = pd.read_excel(f\"{home_path}\\\\Evaporation\\\\daily_Near-Surface-Air-Temperature.xlsx\",\n",
    "# df_temperature = pd.read_excel(f\"{home_path}\\\\Evaporation\\\\mean_monthly_Near-Surface-Air-Temperature.xlsx\",\n",
    "                       index_col=0, parse_dates=True)\n",
    "df_temperature.rename(columns={0:\"Temperature\"},inplace=True)\n",
    "df_temperature_msum = df_temperature.resample('M').mean()"
   ]
  },
  {
   "cell_type": "markdown",
   "id": "68c2d70c",
   "metadata": {},
   "source": [
    "`dakaye` was chosen to as fairly centrally located"
   ]
  },
  {
   "cell_type": "code",
   "execution_count": 10,
   "id": "f2278596",
   "metadata": {},
   "outputs": [],
   "source": [
    "lat = deg2rad(gdf_discharge_client[gdf_discharge_client['name']==\"dakaye\"].iloc[0].geometry.y)"
   ]
  },
  {
   "cell_type": "code",
   "execution_count": 11,
   "id": "d8d41764",
   "metadata": {},
   "outputs": [],
   "source": [
    "years = df_temperature_msum.index.year.unique()\n",
    "for year in years:\n",
    "    mmdlh = monthly_mean_daylight_hours(lat, year)\n",
    "    # use thornthwaite to calculate the \n",
    "    evap = thornthwaite(df_temperature_msum[f'{year}'].Temperature.to_list(), mmdlh, year=year)\n",
    "    set_items = df_temperature_msum[f'{year}'].index\n",
    "    df_temperature_msum.loc[set_items,\"evap\"] = evap"
   ]
  },
  {
   "cell_type": "markdown",
   "id": "1a58bfe0",
   "metadata": {},
   "source": [
    "# some function"
   ]
  },
  {
   "cell_type": "code",
   "execution_count": 26,
   "id": "22af2351",
   "metadata": {},
   "outputs": [],
   "source": [
    "def fobj_generalised(factor_evap, lst_dfs, year, return_df=False):\n",
    "    \"\"\"objective function to find the `factor_evap` which is the percentage of potential evaporation actually present\"\"\"\n",
    "    # unpack\n",
    "    df_discharge = lst_dfs[0]\n",
    "    rainfall_selected_basin = lst_dfs[1]\n",
    "    df_local_evaporation = lst_dfs[2]\n",
    "    \n",
    "    combined_df = df_discharge.copy()\n",
    "    combined_df[\"P\"] = rainfall_selected_basin[\"P\"]\n",
    "    combined_df[\"E\"] = factor_evap * df_local_evaporation[\"E\"]\n",
    "    combined_df[\"Diff\"] = combined_df[\"P\"] - combined_df[\"Q\"] - combined_df[\"E\"]\n",
    "    combined_df = combined_df.loc[combined_df.P.dropna().index] # remove lack of Precipitation data\n",
    "\n",
    "    # compute\n",
    "    yearly_sum = combined_df[f'{year}'].sum()\n",
    "    out = yearly_sum.P - yearly_sum.Q - yearly_sum.E\n",
    "    if return_df:\n",
    "        return combined_df\n",
    "    else:\n",
    "        return out"
   ]
  },
  {
   "cell_type": "code",
   "execution_count": 27,
   "id": "06766581",
   "metadata": {},
   "outputs": [],
   "source": [
    "def plot_combined_df(combined_df):    \n",
    "    \"\"\"Plots the combined_dfs constructed\"\"\"\n",
    "    fig, ax = plt.subplots(1)\n",
    "    ax.set_xlabel(\"Date\")\n",
    "    ax.set_ylabel(\"$m^3/month$\")\n",
    "    for val in [\"P\",\"Q\",\"E\"]:\n",
    "        combined_df[val].plot(marker='.',lw=0.5, ax=ax,label=val)\n",
    "\n",
    "    combined_df[\"Diff\"].plot(ax=ax,label=\"Difference\")\n",
    "    ax.get_xlim()\n",
    "    ax.set_title(f\"Water balance\")\n",
    "    ax.legend()\n",
    "    ax.axhline(0, alpha=0.2, ls=\"--\", color=\"C4\" )"
   ]
  },
  {
   "cell_type": "markdown",
   "id": "bf01e4d9",
   "metadata": {},
   "source": [
    "# now run per station:"
   ]
  },
  {
   "cell_type": "code",
   "execution_count": 47,
   "id": "9c9fc371",
   "metadata": {
    "scrolled": false
   },
   "outputs": [
    {
     "name": "stdout",
     "output_type": "stream",
     "text": [
      "no river segment found\n",
      "no river segment found\n",
      "no river segment found\n"
     ]
    }
   ],
   "source": [
    "output_coefficients_df = []\n",
    "for station_index in range(len(names)):\n",
    "    # get corresponding names\n",
    "    station_name = names[station_index]\n",
    "    station_precip = q_p_linking_dictionary[station_name]\n",
    "\n",
    "    # do geoanalysis\n",
    "    point_discharge = gdf_discharge_client.iloc[station_index].geometry.buffer(0.05)\n",
    "    selected_segement =  main_rivers[main_rivers.crosses(point_discharge)]\n",
    "    \n",
    "    if len(selected_segement) < 1:\n",
    "        print(\"no river segment found\")\n",
    "        # error in finding river segment, we stop\n",
    "    else:\n",
    "        # get the first segment to enter the buffer around the station\n",
    "        selected_location = main_rivers.loc[selected_segement.index[0],:]\n",
    "        # retreive the area\n",
    "        selected_basin_area = selected_location.UPLAND_SKM* 10**6  # km^2 -> m^2\n",
    "\n",
    "        # get precipitation\n",
    "        rainfall_selected_basin = Rainfall_BF_msum[[station_precip]].rename(columns={station_precip:\"P\"})\n",
    "        rainfall_selected_basin.P = rainfall_selected_basin.P * selected_basin_area / 1000 # mm/month * m^2 ->/1000 \n",
    "\n",
    "        # get evaporation\n",
    "        df_local_evaporation = df_temperature_msum[['evap']] * selected_basin_area / 1000 # mm/month * m^2 ->/1000 \n",
    "        df_local_evaporation.rename(columns={'evap':'E'},inplace=True)\n",
    "        ### do initial compute, but E will be too high\n",
    "        combined_df = df_discharge_lst[station_index].copy()\n",
    "        combined_df[\"P\"] = rainfall_selected_basin[\"P\"]\n",
    "        combined_df[\"E\"] = df_local_evaporation[\"E\"]\n",
    "        combined_df[\"Diff\"] = combined_df[\"P\"] - combined_df[\"Q\"] - combined_df[\"E\"]\n",
    "        combined_df = combined_df.loc[combined_df.P.dropna().index] # remove lack of Precipitation data\n",
    "        # some cases no overlap in data\n",
    "        if len(combined_df) > 0:\n",
    "\n",
    "            lst_coefficients = []\n",
    "            for year in combined_df.index.year.unique():\n",
    "                if len(df_discharge_lst[station_index][f'{year}']) < 10: \n",
    "                    # remove year with too few observations\n",
    "                    pass\n",
    "                else:\n",
    "                    lst_dfs_fobj_input = [df_discharge_lst[station_index], rainfall_selected_basin, df_local_evaporation]\n",
    "                    sol = root(fobj_generalised, 1.2, args=(lst_dfs_fobj_input, year))\n",
    "                    lst_coefficients.append(sol.x[0])\n",
    "#                     df_fitted= fobj_generalised(sol.x[0], lst_dfs_fobj_input,year, True)\n",
    "                \n",
    "                \n",
    "\n",
    "            location_lst = [station_name for i in range(len(lst_coefficients))]\n",
    "            output_df = pd.DataFrame(columns=['Year',\"Factor\",\"Location\"],\n",
    "                                     data=list(zip(combined_df.index.year.unique(), lst_coefficients, location_lst)))\n",
    "            output_df.index.name = station_name\n",
    "            output_coefficients_df.append(output_df)\n",
    "    "
   ]
  },
  {
   "cell_type": "code",
   "execution_count": 48,
   "id": "9426de3a",
   "metadata": {},
   "outputs": [],
   "source": [
    "combined_factors = pd.concat(output_coefficients_df)\n",
    "combined_factors.sort_values(\"Year\",inplace=True)\n",
    "combined_factors.reset_index(inplace=True,drop=True)"
   ]
  },
  {
   "cell_type": "code",
   "execution_count": 60,
   "id": "a1a5576e",
   "metadata": {},
   "outputs": [
    {
     "data": {
      "text/plain": [
       "Text(0.5, 1.0, 'Results from different model fits')"
      ]
     },
     "execution_count": 60,
     "metadata": {},
     "output_type": "execute_result"
    },
    {
     "data": {
      "image/png": "[encoded data removed]",
      "text/plain": [
       "<Figure size 640x480 with 1 Axes>"
      ]
     },
     "metadata": {},
     "output_type": "display_data"
    }
   ],
   "source": [
    "fig, ax = plt.subplots(1)\n",
    "ax.plot(combined_factors[\"Year\"].values,combined_factors[\"Factor\"].values,marker='.', lw=0)\n",
    "ax.set_ylim(0,0.5)\n",
    "ax.axhline(combined_factors[\"Factor\"][combined_factors[\"Factor\"]>0].median(),color=\"g\",alpha=0.3)\n",
    "ax.set_xlabel(\"year\")\n",
    "ax.set_ylabel(\"Factor Ea of Ep\")\n",
    "ax.set_title(\"Results from different model fits\")"
   ]
  },
  {
   "cell_type": "code",
   "execution_count": null,
   "id": "73f0002e",
   "metadata": {},
   "outputs": [],
   "source": []
  }
 ],
 "metadata": {
  "kernelspec": {
   "display_name": "Python 3 (ipykernel)",
   "language": "python",
   "name": "python3"
  },
  "language_info": {
   "codemirror_mode": {
    "name": "ipython",
    "version": 3
   },
   "file_extension": ".py",
   "mimetype": "text/x-python",
   "name": "python",
   "nbconvert_exporter": "python",
   "pygments_lexer": "ipython3",
   "version": "3.11.0"
  }
 },
 "nbformat": 4,
 "nbformat_minor": 5
}
