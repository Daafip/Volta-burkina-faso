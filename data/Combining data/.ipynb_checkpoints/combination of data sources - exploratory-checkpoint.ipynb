{
 "cells": [
  {
   "cell_type": "markdown",
   "id": "6d809ad0",
   "metadata": {},
   "source": [
    "## ENVM1400 - I & A - Volta group - DGRE\n",
    "made by: David Haasnoot"
   ]
  },
  {
   "cell_type": "code",
   "execution_count": null,
   "id": "e047445a",
   "metadata": {},
   "outputs": [],
   "source": [
    "import glob\n",
    "import os\n",
    "\n",
    "# data/plot management\n",
    "import pandas as pd\n",
    "import matplotlib\n",
    "import matplotlib.pyplot as plt\n",
    "import numpy as np\n",
    "\n",
    "import warnings\n",
    "\n",
    "# plotting/mapmaknig\n",
    "import geopandas as gpd\n",
    "from geospatial_functions import get_background_map\n",
    "import rasterio\n",
    "from rasterio.plot import show as rioshow\n",
    "import folium\n",
    "\n",
    "warnings.simplefilter('ignore')"
   ]
  },
  {
   "cell_type": "markdown",
   "id": "f3be8c6e",
   "metadata": {},
   "source": [
    "All data from the different sources is combined in this notebook"
   ]
  },
  {
   "cell_type": "code",
   "execution_count": null,
   "id": "808c0637",
   "metadata": {},
   "outputs": [],
   "source": [
    "path = os.getcwd()\n",
    "home_path = os.path.dirname(path)\n",
    "main_folder = os.path.dirname(home_path)\n",
    "\n",
    "gis_folder = f'{main_folder}\\\\QGIS project'"
   ]
  },
  {
   "cell_type": "markdown",
   "id": "5f2acf72",
   "metadata": {},
   "source": [
    "Load in gis data"
   ]
  },
  {
   "cell_type": "code",
   "execution_count": null,
   "id": "c7e575a1",
   "metadata": {},
   "outputs": [],
   "source": [
    "country_outline = gpd.read_file(f\"{gis_folder}\\\\country_outline_32630.gpkg\")\n",
    "volta_outline = gpd.read_file(f\"{gis_folder}\\\\volta_watershed_vector_32630.gpkg\",crs=\"epsg:32630\")\n",
    "main_rivers = gpd.read_file(f\"{gis_folder}\\\\main_rivers_volta.gpkg\",crs=\"epsg:32630\")\n",
    "\n",
    "country_outline = country_outline.set_geometry(country_outline.geometry.to_crs('EPSG:4326'))\n",
    "volta_outline = volta_outline.set_geometry(volta_outline.geometry.to_crs('EPSG:4326'))\n",
    "main_rivers = main_rivers.set_geometry(main_rivers.geometry.to_crs('EPSG:4326'))"
   ]
  },
  {
   "cell_type": "markdown",
   "id": "2babca17",
   "metadata": {},
   "source": [
    "glob allows the reading files based on regular expressions, i.e. all geojson files with **.geojson*"
   ]
  },
  {
   "cell_type": "code",
   "execution_count": null,
   "id": "67ed102e",
   "metadata": {},
   "outputs": [],
   "source": [
    "glob.glob(\"*.geojson\")"
   ]
  },
  {
   "cell_type": "code",
   "execution_count": null,
   "id": "5e18dffd",
   "metadata": {},
   "outputs": [],
   "source": [
    "gdf_precip = gpd.read_file('precipitation_data_client.geojson',crs=\"EPSG:4326\")\n",
    "gdf_discharge_research_gate = gpd.read_file('discharge_data_reasearch_gate.geojson',crs=\"EPSG:4326\")\n",
    "gdf_discharge_client = gpd.read_file('discharge_data_client.geojson',crs=\"EPSG:4326\")\n",
    "gdf_discharge_client['name'] = gdf_discharge_client.apply(lambda x: x['name'].split(\",\")[-1][:-4].strip().lower(),axis=1)"
   ]
  },
  {
   "cell_type": "code",
   "execution_count": null,
   "id": "5864d740",
   "metadata": {},
   "outputs": [],
   "source": [
    "gdf_discharge_client"
   ]
  },
  {
   "cell_type": "markdown",
   "id": "ce356af4",
   "metadata": {},
   "source": [
    "This data loaded in can be visualised using geopandas"
   ]
  },
  {
   "cell_type": "code",
   "execution_count": null,
   "id": "ddda043f",
   "metadata": {},
   "outputs": [],
   "source": [
    "# quick way to get the bounds \n",
    "fig, ax = plt.subplots()\n",
    "\n",
    "#adding features\n",
    "volta_outline.plot(ax=ax,edgecolor=\"k\", facecolor='none')\n",
    "main_rivers.plot(ax=ax, color=\"C0\",zorder=1)\n",
    "country_outline.plot(ax=ax, facecolor=\"none\", edgecolor=\"C2\",zorder=6)\n",
    "\n",
    "# get the bounds to add background\n",
    "bounds_stations = (ax.get_xlim()[0], ax.get_ylim()[0], ax.get_xlim()[1], ax.get_ylim()[1])\n",
    "\n",
    "# add stations\n",
    "gdf_discharge_client.plot(ax=ax,color=\"C3\",markersize=15,zorder=10)\n",
    "with rasterio.open(get_background_map(\"stations\", bounds_stations)) as r:\n",
    "    rioshow(r, ax=ax)\n",
    "\n",
    "gdf_precip.plot(ax=ax, facecolor=\"none\",edgecolor=\"C1\",zorder=10)\n",
    "\n",
    "# add labels\n",
    "mid_points = gdf_precip.geometry.centroid\n",
    "for index, name in enumerate(gdf_precip.name):\n",
    "    ax.annotate(f\"{name}\" , \n",
    "                (mid_points.iloc[index].x-0.5,mid_points.iloc[index].y),zorder=10, color=\"w\",\n",
    "                 path_effects=[matplotlib.patheffects.withStroke(linewidth=1, foreground=\"k\")])\n",
    "\n",
    "for index, name in enumerate(gdf_discharge_client.name):\n",
    "    ax.annotate(f\"{name}\" , \n",
    "                (gdf_discharge_client.iloc[index].geometry.x-0.5,\n",
    "                 gdf_discharge_client.iloc[index].geometry.y),zorder=10, color=\"yellow\",\n",
    "                 path_effects=[matplotlib.patheffects.withStroke(linewidth=1, foreground=\"k\")],\n",
    "                 fontsize=\"small\")\n",
    "    \n",
    "# legend\n",
    "legend1 = ax.annotate(f\"Discharge stations\" , \n",
    "                (-5.8, 7*2),zorder=10, color=\"yellow\",\n",
    "                 path_effects=[matplotlib.patheffects.withStroke(linewidth=1, foreground=\"k\")],\n",
    "                 fontsize=\"small\")\n",
    "\n",
    "legend2 = ax.annotate(f\"Precipitation location\" , \n",
    "            (-5.8, 14.69),zorder=10, color=\"w\",\n",
    "             path_effects=[matplotlib.patheffects.withStroke(linewidth=1, foreground=\"k\")])\n",
    "\n",
    "legend1.set_bbox(dict(facecolor='black', alpha=0.5))\n",
    "legend2.set_bbox(dict(facecolor='black', alpha=0.5))\n",
    "# set appearance\n",
    "ax.set_title(\"Measurement locations \\n of precipitation & discharge data\")\n",
    "ax.set_xlabel(\"Longitude$^{\\circ}$\");\n",
    "ax.set_ylabel(\"Latitude$^{\\circ}$\");\n",
    "\n",
    "ax.set_ylim((5.5,15.5))\n",
    "ax.set_xlim((-6,2.5));\n",
    "\n",
    "fig.savefig('locations.png', transparent=True,pad_inches=0)"
   ]
  },
  {
   "cell_type": "markdown",
   "id": "915f31c7",
   "metadata": {},
   "source": [
    "per discharge station we want to select a river segment, this is then shown below using geopandas"
   ]
  },
  {
   "cell_type": "code",
   "execution_count": null,
   "id": "7aeb5e9f",
   "metadata": {},
   "outputs": [],
   "source": [
    "i=0\n",
    "point_discharge = gdf_discharge_client.iloc[i].geometry.buffer(0.05)\n",
    "selected_segement =  main_rivers[main_rivers.crosses(point_discharge)]\n",
    "buffers = gpd.GeoDataFrame(index=[0],geometry=[point_discharge],crs=\"epsg:4326\")\n",
    "fig, ax = plt.subplots(1)\n",
    "try:\n",
    "    selected_segement.iloc[[0]].plot(ax=ax)\n",
    "    selected_segement.iloc[[1]].plot(ax=ax,color=\"C1\")\n",
    "    gdf_discharge_client.iloc[[i]].plot(ax=ax,color=\"C3\")\n",
    "    buffers.plot(ax=ax,facecolor=\"none\",edgecolor=\"C2\")\n",
    "    ax.annotate(\"Discharge station\",(gdf_discharge_client.iloc[[i]].geometry.x, \n",
    "                                     gdf_discharge_client.iloc[[i]].geometry.y),\n",
    "               zorder=10, color=\"w\",\n",
    "               path_effects=[matplotlib.patheffects.withStroke(linewidth=1, foreground=\"k\")])\n",
    "    \n",
    "    bounds_stations = (ax.get_xlim()[0], ax.get_ylim()[0], ax.get_xlim()[1], ax.get_ylim()[1])\n",
    "    with rasterio.open(get_background_map(f\"river_selction_{i}\", bounds_stations)) as r:\n",
    "        rioshow(r, ax=ax)\n",
    "        \n",
    "        \n",
    "    ax.set_xlabel(\"Longitude$^{\\circ}$\");\n",
    "    ax.set_ylabel(\"Latitude$^{\\circ}$\");\n",
    "    ax.set_title(\"Selection of river segment\")\n",
    "except IndexError:\n",
    "    print(\"no segement found\")\n",
    "\n",
    "selected_segement\n",
    "fig.savefig('selection_of_river.png', transparent=True)"
   ]
  },
  {
   "cell_type": "code",
   "execution_count": null,
   "id": "a416c061",
   "metadata": {},
   "outputs": [],
   "source": [
    "point_discharge = gdf_discharge_client.iloc[i].geometry.buffer(0.05)\n",
    "selected_segement =  main_rivers[main_rivers.crosses(point_discharge)]\n",
    "selected_location = main_rivers.loc[selected_segement.index[0],:]\n",
    "selected_location.head()"
   ]
  },
  {
   "cell_type": "markdown",
   "id": "a7f6609b",
   "metadata": {},
   "source": [
    "From the selected river segment location we can get the upland flow accumulation area from hydrosheds"
   ]
  },
  {
   "cell_type": "code",
   "execution_count": null,
   "id": "286c474b",
   "metadata": {},
   "outputs": [],
   "source": [
    "area_upstream_black_volta_border = selected_location.UPLAND_SKM"
   ]
  },
  {
   "cell_type": "markdown",
   "id": "c84d803f",
   "metadata": {},
   "source": [
    "## load discharge & precipitation data from analysis"
   ]
  },
  {
   "cell_type": "markdown",
   "id": "2dad6027",
   "metadata": {},
   "source": [
    "precipitation:"
   ]
  },
  {
   "cell_type": "code",
   "execution_count": null,
   "id": "e73fac1b",
   "metadata": {},
   "outputs": [],
   "source": [
    "Rainfall_BF_msum = pd.read_excel(\"Monthly_sum_rainfall.xlsx\",index_col=0)\n",
    "Rainfall_BF_msum.sum()"
   ]
  },
  {
   "cell_type": "markdown",
   "id": "4d177460",
   "metadata": {},
   "source": [
    "discharge:"
   ]
  },
  {
   "cell_type": "code",
   "execution_count": null,
   "id": "da62ae03",
   "metadata": {},
   "outputs": [],
   "source": [
    "names = ['Black volta, vonkoro',\n",
    "         'Bougouriba, dan',\n",
    "         'Mou houn, black volta, samandeni',\n",
    "         'Mou houn, black volta,dapola',\n",
    "         'Nakanbe, white volta, yakala',\n",
    "         'Nakanbe, white volta, yilou',\n",
    "         'Nazinon, red volta, dakaye',\n",
    "         'Pendjari, porga',\n",
    "         'Singou, samboali']"
   ]
  },
  {
   "cell_type": "code",
   "execution_count": null,
   "id": "34347b73",
   "metadata": {},
   "outputs": [],
   "source": [
    "df_discharge_per_location_lst = []\n",
    "for name in names:\n",
    "    df_discharge = pd.read_excel(f\"{home_path}\\\\Combining data\\\\{name}.xlsx\",index_col=0)\n",
    "    df_discharge_per_location_lst.append(df_discharge)"
   ]
  },
  {
   "cell_type": "markdown",
   "id": "4c5e2d74",
   "metadata": {},
   "source": [
    "# specific for black volta to start"
   ]
  },
  {
   "cell_type": "code",
   "execution_count": null,
   "id": "b2756ce9",
   "metadata": {},
   "outputs": [],
   "source": [
    "discharge_black_volta = df_discharge_per_location_lst[0].rename(columns={\"black volta, vonkoro\":\"Q\"})"
   ]
  },
  {
   "cell_type": "code",
   "execution_count": null,
   "id": "81c3a2e2",
   "metadata": {},
   "outputs": [],
   "source": [
    "months_with_data = discharge_black_volta.apply(lambda x: f'{x.name.month}-{x.name.year}', axis=1).unique()"
   ]
  },
  {
   "cell_type": "markdown",
   "id": "c365ada9",
   "metadata": {},
   "source": [
    "not all months include data, filter only the months with data"
   ]
  },
  {
   "cell_type": "code",
   "execution_count": null,
   "id": "60c8b0a1",
   "metadata": {},
   "outputs": [],
   "source": [
    "months_with_data"
   ]
  },
  {
   "cell_type": "code",
   "execution_count": null,
   "id": "97d7038c",
   "metadata": {},
   "outputs": [],
   "source": [
    "discharge_black_volta_msum = discharge_black_volta.resample('M').sum()\n",
    "discharge_black_volta_msum['timestamp'] = discharge_black_volta_msum.apply(lambda x: x.name, axis=1)\n",
    "discharge_black_volta_msum.index = \\\n",
    "                                discharge_black_volta_msum.apply(lambda x: f'{x.name.month}-{x.name.year}', axis=1)\n",
    "discharge_black_volta_msum_sorted = discharge_black_volta_msum.loc[months_with_data]\n",
    "discharge_black_volta_msum_sorted.index = discharge_black_volta_msum_sorted['timestamp']\n",
    "discharge_black_volta_msum_sorted.drop(columns=\"timestamp\",inplace=True)\n",
    "discharge_black_volta_msum_sorted.head(5)"
   ]
  },
  {
   "cell_type": "markdown",
   "id": "8a53c240",
   "metadata": {},
   "source": [
    "Q in m^3/s -> sum these is total m^3/s in one month -> m^3/month -> * 3600 * 24 * 30"
   ]
  },
  {
   "cell_type": "code",
   "execution_count": null,
   "id": "03d7541c",
   "metadata": {},
   "outputs": [],
   "source": [
    "discharge_black_volta_msum_sorted.Q = \\\n",
    "discharge_black_volta_msum_sorted.apply(lambda x: x.Q * x.name.days_in_month * 24 * 3600 , axis=1) #m^3/month"
   ]
  },
  {
   "cell_type": "markdown",
   "id": "a5a779ef",
   "metadata": {},
   "source": [
    "add column with month index for later"
   ]
  },
  {
   "cell_type": "code",
   "execution_count": null,
   "id": "5c89413e",
   "metadata": {},
   "outputs": [],
   "source": [
    "discharge_black_volta_msum_sorted[\"month\"] = discharge_black_volta_msum_sorted.apply(lambda x: x.name.month, axis=1)"
   ]
  },
  {
   "cell_type": "code",
   "execution_count": null,
   "id": "7848171c",
   "metadata": {},
   "outputs": [],
   "source": [
    "rainfall_black_volta = Rainfall_BF_msum[[\"Black_Volta\"]].rename(columns={\"Black_Volta\":\"P\"})"
   ]
  },
  {
   "cell_type": "markdown",
   "id": "0b0781cf",
   "metadata": {},
   "source": [
    "convert precipitation to m^3/month"
   ]
  },
  {
   "cell_type": "code",
   "execution_count": null,
   "id": "1befb534",
   "metadata": {},
   "outputs": [],
   "source": [
    "black_volta_basin_area = selected_location.UPLAND_SKM * 10**6  # km^2 -> m^2\n",
    "rainfall_black_volta.P = rainfall_black_volta.P * black_volta_basin_area / 1000 # mm/month * m^2 ->/1000 =  m^3/month "
   ]
  },
  {
   "cell_type": "markdown",
   "id": "b1a0d5ea",
   "metadata": {},
   "source": [
    "plot (for presentation)"
   ]
  },
  {
   "cell_type": "code",
   "execution_count": null,
   "id": "84336f54",
   "metadata": {},
   "outputs": [],
   "source": [
    "fig, ax = plt.subplots(1,2,sharey=True,figsize=(10,3))\n",
    "fig.tight_layout(h_pad=1.6)\n",
    "fig.suptitle(\"Black volta, Vonkoro\",y=1.10,fontsize=14)\n",
    "discharge_black_volta_msum_sorted.Q.plot(marker=\".\",lw=0.2,color=\"C1\",ax=ax[0])\n",
    "ax[0].set_title(\"Monthly sum discharge\")\n",
    "ax[0].set_ylabel(\"m$^3$\")\n",
    "labels_0 = ax[0].get_xticklabels()\n",
    "ax[0].set_xticklabels(labels_0,rotation=0);\n",
    "\n",
    "rainfall_black_volta.index.name = 'timestamp'\n",
    "rainfall_black_volta.plot(lw=0.2, marker=\".\", ax=ax[1])\n",
    "ax[1].set_title(\"Monthly sum rainfall\")\n",
    "ax[1].set_ylabel(\"m$^3$\")\n",
    "ax[1].get_legend().remove()\n",
    "\n",
    "### in case of bargraph fix xaxis\n",
    "# ticks = ax.get_xticks()\n",
    "# ax.set_xticks(np.linspace(min(ticks),max(ticks),num=10,dtype=int))\n",
    "# labels = ax.get_xticklabels()\n",
    "# [labels[i].set_text(labels[i].get_text()[:4]) for i in range(len(labels))]\n",
    "# ax.set_xticklabels(labels,rotation=0);\n",
    "# ax.get_xticks()"
   ]
  },
  {
   "cell_type": "markdown",
   "id": "6bb80219",
   "metadata": {},
   "source": [
    "## Evaporation\n",
    "Ensure the [Pyeto](https://github.com/woodcrafty/PyETo) package is present in your lib file under anaconda"
   ]
  },
  {
   "cell_type": "code",
   "execution_count": null,
   "id": "cd1f3760",
   "metadata": {},
   "outputs": [],
   "source": [
    "from pyeto import thornthwaite, monthly_mean_daylight_hours, deg2rad"
   ]
  },
  {
   "cell_type": "code",
   "execution_count": null,
   "id": "c72261a7",
   "metadata": {},
   "outputs": [],
   "source": [
    "lat = deg2rad(gdf_discharge_client[gdf_discharge_client['name']==\"vonkoro\"].iloc[0].geometry.y)"
   ]
  },
  {
   "cell_type": "markdown",
   "id": "e28f584d",
   "metadata": {},
   "source": [
    "Read file with temperature"
   ]
  },
  {
   "cell_type": "code",
   "execution_count": null,
   "id": "c22014d4",
   "metadata": {},
   "outputs": [],
   "source": [
    "df_temperature = pd.read_excel(f\"{home_path}\\\\Evaporation\\\\daily_Near-Surface-Air-Temperature.xlsx\",\n",
    "                               index_col=0,parse_dates=True)\n",
    "df_temperature.rename(columns={0:\"Temperature\"},inplace=True)\n",
    "# df_temperature_msum = df_temperature.resample('M').mean()"
   ]
  },
  {
   "cell_type": "code",
   "execution_count": null,
   "id": "2281e550",
   "metadata": {},
   "outputs": [],
   "source": [
    "# df_temperature"
   ]
  },
  {
   "cell_type": "code",
   "execution_count": null,
   "id": "b9c88bf3",
   "metadata": {},
   "outputs": [],
   "source": [
    "df_temperature_msum = df_temperature.resample('M').mean()"
   ]
  },
  {
   "cell_type": "code",
   "execution_count": null,
   "id": "5ab24f2f",
   "metadata": {},
   "outputs": [],
   "source": [
    "df_temperature_msum"
   ]
  },
  {
   "cell_type": "code",
   "execution_count": null,
   "id": "0801bc04",
   "metadata": {},
   "outputs": [],
   "source": [
    "gdf_discharge_client['name']"
   ]
  },
  {
   "cell_type": "code",
   "execution_count": null,
   "id": "a00f5106",
   "metadata": {},
   "outputs": [],
   "source": [
    "fig, ax = plt.subplots(figsize=(6,3))\n",
    "df_temperature_msum.plot(marker=\".\", lw=0.2,ax=ax,color=\"C2\")\n",
    "ax.set_ylabel(\"Near surface air temperature $^{\\circ}$C\")\n",
    "ax.set_title(\"Mean monthly temperature data from EC-Earth3 historical model\")\n",
    "ax.get_legend().remove()"
   ]
  },
  {
   "cell_type": "code",
   "execution_count": null,
   "id": "ab32aeb9",
   "metadata": {},
   "outputs": [],
   "source": [
    "df_temperature_msum"
   ]
  },
  {
   "cell_type": "markdown",
   "id": "d3a90954",
   "metadata": {},
   "source": [
    "mean between 6° W and 6°E and between 5°N and 15°N"
   ]
  },
  {
   "cell_type": "code",
   "execution_count": null,
   "id": "56c57561",
   "metadata": {},
   "outputs": [],
   "source": [
    "mmdlh = monthly_mean_daylight_hours(lat, 2022)"
   ]
  },
  {
   "cell_type": "code",
   "execution_count": null,
   "id": "d02dbd84",
   "metadata": {},
   "outputs": [],
   "source": [
    "month = np.arange(1,13,1)\n",
    "df_light_hrs = pd.DataFrame(columns=['month',\"daylight_hours\"],data=list(zip(month, mmdlh)))\n",
    "df_light_hrs.index = df_light_hrs.month\n",
    "df_light_hrs.drop(columns=\"month\",inplace=True)\n",
    "df_light_hrs.head(3)"
   ]
  },
  {
   "cell_type": "code",
   "execution_count": null,
   "id": "d71ede3e",
   "metadata": {},
   "outputs": [],
   "source": [
    "years = df_temperature_msum.index.year.unique()\n",
    "for year in years:\n",
    "    mmdlh = monthly_mean_daylight_hours(lat, year)\n",
    "    # use thornthwaite to calculate the \n",
    "    evap = thornthwaite(df_temperature_msum[f'{year}'].Temperature.to_list(), mmdlh, year=year)\n",
    "    set_items = df_temperature_msum[f'{year}'].index\n",
    "    df_temperature_msum.loc[set_items,\"evap\"] = evap"
   ]
  },
  {
   "cell_type": "code",
   "execution_count": null,
   "id": "fd185945",
   "metadata": {},
   "outputs": [],
   "source": [
    "df_temperature_msum.head()"
   ]
  },
  {
   "cell_type": "code",
   "execution_count": null,
   "id": "71cfea04",
   "metadata": {},
   "outputs": [],
   "source": [
    "df_temperature_msum.evap.plot()"
   ]
  },
  {
   "cell_type": "code",
   "execution_count": null,
   "id": "a865f7d5",
   "metadata": {},
   "outputs": [],
   "source": [
    "black_volta_basin_area = selected_location.UPLAND_SKM * 10**6  # km^2 -> m^2\n",
    "df_temperature_msum[\"E\"] = df_temperature_msum.evap * black_volta_basin_area / 1000 # mm/month * m^2 ->/1000 =  m^3/month "
   ]
  },
  {
   "cell_type": "markdown",
   "id": "33bfd932",
   "metadata": {},
   "source": [
    "# Combine data"
   ]
  },
  {
   "cell_type": "code",
   "execution_count": null,
   "id": "102bdaec",
   "metadata": {},
   "outputs": [],
   "source": [
    "combined_df = discharge_black_volta_msum_sorted.copy()\n",
    "combined_df[\"P\"] = rainfall_black_volta[\"P\"]\n",
    "combined_df[\"E\"] = df_temperature_msum[\"E\"]\n",
    "combined_df[\"Diff\"] = combined_df[\"P\"] - combined_df[\"Q\"] - combined_df[\"E\"]"
   ]
  },
  {
   "cell_type": "code",
   "execution_count": null,
   "id": "488f059e",
   "metadata": {},
   "outputs": [],
   "source": [
    "combined_df.head(5)"
   ]
  },
  {
   "cell_type": "markdown",
   "id": "0cbc2c1c",
   "metadata": {},
   "source": [
    "# Plot combined data"
   ]
  },
  {
   "cell_type": "code",
   "execution_count": null,
   "id": "13b1d42b",
   "metadata": {},
   "outputs": [],
   "source": [
    "yearly_sum = combined_df['1982'].sum()\n",
    "print(f'{yearly_sum.P - yearly_sum.Q:.2g}m^3')"
   ]
  },
  {
   "cell_type": "code",
   "execution_count": null,
   "id": "deccfe25",
   "metadata": {},
   "outputs": [],
   "source": [
    "yearly_sum = combined_df['1982'].sum()\n",
    "print(f'{yearly_sum.P - yearly_sum.Q - yearly_sum.E:.2g}')"
   ]
  },
  {
   "cell_type": "code",
   "execution_count": null,
   "id": "1ce479ef",
   "metadata": {},
   "outputs": [],
   "source": [
    "fig, ax = plt.subplots(1)\n",
    "ax.set_xlabel(\"Date\")\n",
    "ax.set_ylabel(\"$m^3/month$\")\n",
    "for val in [\"P\",\"Q\",\"E\"]:\n",
    "    combined_df[val].plot(marker='.',lw=0.2, ax=ax,label=val)\n",
    "    \n",
    "combined_df[\"Diff\"].plot(ax=ax,label=\"Difference\")\n",
    "ax.set_xlim((4350,4850))\n",
    "ax.get_xlim()\n",
    "ax.set_title(\"Water balance for 1982 in Vonkoro, Black Volta\")\n",
    "ax.legend()\n",
    "ax.axhline(0, alpha=0.2, ls=\"--\", color=\"C4\" )\n",
    "\n",
    "ax.annotate(f'$\\Sigma_Y$(P - Q - E) = {yearly_sum.P - yearly_sum.Q - yearly_sum.E:.2g}m$^3$',(4400, -2e10))\n",
    "ax.get_xticks()"
   ]
  },
  {
   "cell_type": "markdown",
   "id": "665668b9",
   "metadata": {},
   "source": [
    "optimize *factor_evap* so that yearly balance is 0"
   ]
  },
  {
   "cell_type": "code",
   "execution_count": null,
   "id": "3c320b56",
   "metadata": {},
   "outputs": [],
   "source": [
    "from scipy.optimize import root"
   ]
  },
  {
   "cell_type": "markdown",
   "id": "2f7dfa78",
   "metadata": {},
   "source": [
    "Change to tweak:"
   ]
  },
  {
   "cell_type": "code",
   "execution_count": null,
   "id": "1d693045",
   "metadata": {},
   "outputs": [],
   "source": [
    "year = discharge_black_volta_msum_sorted.index.year.unique()[1]"
   ]
  },
  {
   "cell_type": "code",
   "execution_count": null,
   "id": "a550735e",
   "metadata": {},
   "outputs": [],
   "source": [
    "def fobj(factor_evap, lst_dfs, year, return_df=False):\n",
    "    # unpack\n",
    "    discharge_black_volta_msum_sorted = lst_dfs[0]\n",
    "    rainfall_black_volta = lst_dfs[1]\n",
    "    df_temperature_msum = lst_dfs[2]\n",
    "    # combine\n",
    "    combined_df_fit = discharge_black_volta_msum_sorted.copy()\n",
    "    combined_df_fit[\"P\"] = rainfall_black_volta[\"P\"]\n",
    "    combined_df_fit[\"E\"] = factor_evap * df_temperature_msum[\"E\"]\n",
    "    combined_df_fit[\"Diff\"] = combined_df_fit[\"P\"] - combined_df_fit[\"Q\"] - combined_df_fit[\"E\"]\n",
    "    \n",
    "    # compute\n",
    "    yearly_sum = combined_df_fit[f'{year}'].sum()\n",
    "    out = yearly_sum.P - yearly_sum.Q - yearly_sum.E\n",
    "    if return_df:\n",
    "        return combined_df_fit\n",
    "    else:\n",
    "        return out"
   ]
  },
  {
   "cell_type": "code",
   "execution_count": null,
   "id": "70b642bd",
   "metadata": {},
   "outputs": [],
   "source": [
    "lst_dfs_fobj_input = [discharge_black_volta_msum_sorted, rainfall_black_volta, df_temperature_msum]\n",
    "sol = root(fobj, 0.3, args=(lst_dfs_fobj_input, year))\n",
    "sol.x[0]"
   ]
  },
  {
   "cell_type": "code",
   "execution_count": null,
   "id": "ff9fd259",
   "metadata": {},
   "outputs": [],
   "source": [
    "combined_fitted_df = fobj(sol.x[0], lst_dfs_fobj_input,year, True)\n",
    "yearly_balance = fobj(sol.x[0], lst_dfs_fobj_input,year, False)\n",
    "yearly_balance"
   ]
  },
  {
   "cell_type": "code",
   "execution_count": null,
   "id": "807b092c",
   "metadata": {},
   "outputs": [],
   "source": [
    "def plot_combined_df(combined_df):    \n",
    "    fig, ax = plt.subplots(1)\n",
    "    ax.set_xlabel(\"Date\")\n",
    "    ax.set_ylabel(\"$m^3/month$\")\n",
    "    for val in [\"P\",\"Q\",\"E\"]:\n",
    "        combined_df[val].plot(marker='.',lw=0.5, ax=ax,label=val)\n",
    "\n",
    "    combined_df[\"Diff\"].plot(ax=ax,label=\"Difference\")\n",
    "    ax.get_xlim()\n",
    "    ax.set_title(f\"Water balance\")\n",
    "    ax.legend()\n",
    "    ax.axhline(0, alpha=0.2, ls=\"--\", color=\"C4\" )"
   ]
  },
  {
   "cell_type": "code",
   "execution_count": null,
   "id": "f7f6fac3",
   "metadata": {},
   "outputs": [],
   "source": [
    "plot_combined_df(combined_fitted_df)"
   ]
  },
  {
   "cell_type": "markdown",
   "id": "4f609453",
   "metadata": {},
   "source": [
    "*For presentation*"
   ]
  },
  {
   "cell_type": "code",
   "execution_count": null,
   "id": "96661e49",
   "metadata": {},
   "outputs": [],
   "source": [
    "yearly_sum_fitted = combined_fitted_df['1982'].sum()\n",
    "print(f'{yearly_sum_fitted.P - yearly_sum_fitted.Q - yearly_sum_fitted.E:.2g}')"
   ]
  },
  {
   "cell_type": "code",
   "execution_count": null,
   "id": "aba56eae",
   "metadata": {},
   "outputs": [],
   "source": [
    "fig, ax = plt.subplots(1)\n",
    "ax.set_xlabel(\"Date\")\n",
    "ax.set_ylabel(\"$m^3/month$\")\n",
    "for val in [\"P\",\"Q\",\"E\"]:\n",
    "    combined_fitted_df[val].plot(marker='.',lw=0.5, ax=ax,label=val)\n",
    "\n",
    "combined_fitted_df[\"Diff\"].plot(ax=ax,label=\"Difference\")\n",
    "ax.set_xlim((4350,4850))\n",
    "ax.get_xlim()\n",
    "ax.set_title(f\"Water balance\")\n",
    "ax.legend()\n",
    "ax.axhline(0, alpha=0.2, ls=\"--\", color=\"C4\" )\n",
    "\n",
    "ax.annotate(f'$\\Sigma_Y$(P - Q - E) = {yearly_sum_fitted.P - yearly_sum_fitted.Q - yearly_sum_fitted.E:.2g}m$^3$'\\\n",
    "            + f' with f={sol.x[0]:.2f}'\n",
    "            ,\n",
    "            (4400, -1e10))"
   ]
  },
  {
   "cell_type": "markdown",
   "id": "6014e2bf",
   "metadata": {},
   "source": [
    "# make general \n",
    "# moved to *Combining data sources - Finding Ea = f x Ep.ipynb*"
   ]
  },
  {
   "cell_type": "code",
   "execution_count": null,
   "id": "142e45d5",
   "metadata": {},
   "outputs": [],
   "source": []
  }
 ],
 "metadata": {
  "kernelspec": {
   "display_name": "Python 3 (ipykernel)",
   "language": "python",
   "name": "python3"
  },
  "language_info": {
   "codemirror_mode": {
    "name": "ipython",
    "version": 3
   },
   "file_extension": ".py",
   "mimetype": "text/x-python",
   "name": "python",
   "nbconvert_exporter": "python",
   "pygments_lexer": "ipython3",
   "version": "3.11.0"
  }
 },
 "nbformat": 4,
 "nbformat_minor": 5
}
