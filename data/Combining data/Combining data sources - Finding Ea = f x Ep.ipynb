{
 "cells": [
  {
   "cell_type": "markdown",
   "id": "da7579e1",
   "metadata": {},
   "source": [
    "import packages"
   ]
  },
  {
   "cell_type": "code",
   "execution_count": 1,
   "id": "d00ed0eb",
   "metadata": {},
   "outputs": [],
   "source": [
    "import glob\n",
    "import os\n",
    "\n",
    "# data/plot management\n",
    "import pandas as pd\n",
    "import matplotlib\n",
    "import matplotlib.pyplot as plt\n",
    "import numpy as np\n",
    "\n",
    "import warnings\n",
    "\n",
    "# plotting/mapmaknig\n",
    "import geopandas as gpd\n",
    "from geospatial_functions import get_background_map\n",
    "import rasterio\n",
    "from rasterio.plot import show as rioshow\n",
    "import folium\n",
    "\n",
    "# adding 'custom script' \n",
    "#Ensure the [Pyeto](https://github.com/woodcrafty/PyETo) package is present in your \n",
    "# \"C:\\Users\\{USERNAME}\\anaconda3\\envs\\{ENVIRONMENT}\\Lib\\\",or \"C:\\Users\\{USERNAME}\\anaconda3\\Lib\\\",\n",
    "from pyeto import thornthwaite, monthly_mean_daylight_hours, deg2rad\n",
    "\n",
    "from scipy.optimize import root\n",
    "\n",
    "warnings.simplefilter('ignore')"
   ]
  },
  {
   "cell_type": "markdown",
   "id": "2e9dfc29",
   "metadata": {},
   "source": [
    "add some useful paths to navigate shared storage:"
   ]
  },
  {
   "cell_type": "code",
   "execution_count": 2,
   "id": "20167c69",
   "metadata": {},
   "outputs": [],
   "source": [
    "path = os.getcwd()\n",
    "home_path = os.path.dirname(path)\n",
    "main_folder = os.path.dirname(home_path)\n",
    "\n",
    "gis_folder = f'{main_folder}\\\\QGIS project'"
   ]
  },
  {
   "cell_type": "markdown",
   "id": "e3756da7",
   "metadata": {},
   "source": [
    "add some spatial data"
   ]
  },
  {
   "cell_type": "code",
   "execution_count": 3,
   "id": "a4bf64b0",
   "metadata": {},
   "outputs": [],
   "source": [
    "country_outline = gpd.read_file(f\"{gis_folder}\\\\country_outline_32630.gpkg\")\n",
    "volta_outline = gpd.read_file(f\"{gis_folder}\\\\volta_watershed_vector_32630.gpkg\",crs=\"epsg:32630\")\n",
    "main_rivers = gpd.read_file(f\"{gis_folder}\\\\main_rivers_volta.gpkg\",crs=\"epsg:32630\")\n",
    "\n",
    "country_outline = country_outline.set_geometry(country_outline.geometry.to_crs('EPSG:4326'))\n",
    "volta_outline = volta_outline.set_geometry(volta_outline.geometry.to_crs('EPSG:4326'))\n",
    "main_rivers = main_rivers.set_geometry(main_rivers.geometry.to_crs('EPSG:4326'))\n",
    "\n",
    "gdf_discharge_client = gpd.read_file('discharge_data_client.geojson',crs=\"EPSG:4326\")\n",
    "gdf_discharge_client['name'] = gdf_discharge_client.apply(lambda x: x['name'].split(\",\")[-1][:-4].strip().lower(),axis=1)"
   ]
  },
  {
   "cell_type": "markdown",
   "id": "6014e2bf",
   "metadata": {},
   "source": [
    "# make general:"
   ]
  },
  {
   "cell_type": "markdown",
   "id": "ff1f1c73",
   "metadata": {},
   "source": [
    "#### load precipitation data from analysis"
   ]
  },
  {
   "cell_type": "code",
   "execution_count": 4,
   "id": "a21cf2af",
   "metadata": {},
   "outputs": [
    {
     "data": {
      "text/plain": [
       "Index(['Ouagadougou', 'Nakambe', 'Black_Volta', 'Mouhoun', 'Lake_Volta', 'Oti',\n",
       "       'Penjari'],\n",
       "      dtype='object')"
      ]
     },
     "execution_count": 4,
     "metadata": {},
     "output_type": "execute_result"
    }
   ],
   "source": [
    "Rainfall_BF_msum = pd.read_excel(\"Monthly_sum_rainfall.xlsx\",index_col=0)\n",
    "Rainfall_BF_msum.columns"
   ]
  },
  {
   "cell_type": "code",
   "execution_count": 5,
   "id": "50b3d5b6",
   "metadata": {},
   "outputs": [
    {
     "data": {
      "text/html": [
       "<div>\n",
       "<style scoped>\n",
       "    .dataframe tbody tr th:only-of-type {\n",
       "        vertical-align: middle;\n",
       "    }\n",
       "\n",
       "    .dataframe tbody tr th {\n",
       "        vertical-align: top;\n",
       "    }\n",
       "\n",
       "    .dataframe thead th {\n",
       "        text-align: right;\n",
       "    }\n",
       "</style>\n",
       "<table border=\"1\" class=\"dataframe\">\n",
       "  <thead>\n",
       "    <tr style=\"text-align: right;\">\n",
       "      <th></th>\n",
       "      <th>Ouagadougou</th>\n",
       "      <th>Nakambe</th>\n",
       "      <th>Black_Volta</th>\n",
       "      <th>Mouhoun</th>\n",
       "      <th>Lake_Volta</th>\n",
       "      <th>Oti</th>\n",
       "      <th>Penjari</th>\n",
       "    </tr>\n",
       "    <tr>\n",
       "      <th>Date</th>\n",
       "      <th></th>\n",
       "      <th></th>\n",
       "      <th></th>\n",
       "      <th></th>\n",
       "      <th></th>\n",
       "      <th></th>\n",
       "      <th></th>\n",
       "    </tr>\n",
       "  </thead>\n",
       "  <tbody>\n",
       "    <tr>\n",
       "      <th>1981-01-31</th>\n",
       "      <td>0.000000</td>\n",
       "      <td>0.000000</td>\n",
       "      <td>0.410630</td>\n",
       "      <td>0.000000</td>\n",
       "      <td>13.869179</td>\n",
       "      <td>0.000000</td>\n",
       "      <td>0.000000</td>\n",
       "    </tr>\n",
       "    <tr>\n",
       "      <th>1981-02-28</th>\n",
       "      <td>0.000000</td>\n",
       "      <td>0.146212</td>\n",
       "      <td>3.206854</td>\n",
       "      <td>0.440967</td>\n",
       "      <td>52.009327</td>\n",
       "      <td>4.207938</td>\n",
       "      <td>0.000000</td>\n",
       "    </tr>\n",
       "    <tr>\n",
       "      <th>1981-03-31</th>\n",
       "      <td>3.321553</td>\n",
       "      <td>2.109617</td>\n",
       "      <td>90.963905</td>\n",
       "      <td>6.727890</td>\n",
       "      <td>181.174277</td>\n",
       "      <td>106.531309</td>\n",
       "      <td>13.677208</td>\n",
       "    </tr>\n",
       "    <tr>\n",
       "      <th>1981-04-30</th>\n",
       "      <td>31.308575</td>\n",
       "      <td>7.266831</td>\n",
       "      <td>63.252223</td>\n",
       "      <td>17.095812</td>\n",
       "      <td>113.174518</td>\n",
       "      <td>48.240848</td>\n",
       "      <td>69.913232</td>\n",
       "    </tr>\n",
       "    <tr>\n",
       "      <th>1981-05-31</th>\n",
       "      <td>78.591566</td>\n",
       "      <td>35.860808</td>\n",
       "      <td>140.261632</td>\n",
       "      <td>77.489709</td>\n",
       "      <td>207.591562</td>\n",
       "      <td>161.008969</td>\n",
       "      <td>173.526988</td>\n",
       "    </tr>\n",
       "    <tr>\n",
       "      <th>...</th>\n",
       "      <td>...</td>\n",
       "      <td>...</td>\n",
       "      <td>...</td>\n",
       "      <td>...</td>\n",
       "      <td>...</td>\n",
       "      <td>...</td>\n",
       "      <td>...</td>\n",
       "    </tr>\n",
       "    <tr>\n",
       "      <th>2022-08-31</th>\n",
       "      <td>254.193568</td>\n",
       "      <td>268.714974</td>\n",
       "      <td>197.515479</td>\n",
       "      <td>283.810280</td>\n",
       "      <td>62.336173</td>\n",
       "      <td>174.956372</td>\n",
       "      <td>266.400101</td>\n",
       "    </tr>\n",
       "    <tr>\n",
       "      <th>2022-09-30</th>\n",
       "      <td>195.986965</td>\n",
       "      <td>143.299004</td>\n",
       "      <td>242.311991</td>\n",
       "      <td>229.312312</td>\n",
       "      <td>210.401037</td>\n",
       "      <td>284.098956</td>\n",
       "      <td>180.332295</td>\n",
       "    </tr>\n",
       "    <tr>\n",
       "      <th>2022-10-31</th>\n",
       "      <td>17.079898</td>\n",
       "      <td>16.014090</td>\n",
       "      <td>51.457809</td>\n",
       "      <td>25.429949</td>\n",
       "      <td>157.924151</td>\n",
       "      <td>125.886952</td>\n",
       "      <td>84.981922</td>\n",
       "    </tr>\n",
       "    <tr>\n",
       "      <th>2022-11-30</th>\n",
       "      <td>0.000000</td>\n",
       "      <td>0.417778</td>\n",
       "      <td>9.665133</td>\n",
       "      <td>1.552652</td>\n",
       "      <td>44.194282</td>\n",
       "      <td>9.202726</td>\n",
       "      <td>0.000000</td>\n",
       "    </tr>\n",
       "    <tr>\n",
       "      <th>2022-12-31</th>\n",
       "      <td>0.446935</td>\n",
       "      <td>0.325736</td>\n",
       "      <td>6.325747</td>\n",
       "      <td>1.588270</td>\n",
       "      <td>38.133233</td>\n",
       "      <td>0.955443</td>\n",
       "      <td>0.219662</td>\n",
       "    </tr>\n",
       "  </tbody>\n",
       "</table>\n",
       "<p>504 rows × 7 columns</p>\n",
       "</div>"
      ],
      "text/plain": [
       "            Ouagadougou     Nakambe  Black_Volta     Mouhoun  Lake_Volta  \\\n",
       "Date                                                                       \n",
       "1981-01-31     0.000000    0.000000     0.410630    0.000000   13.869179   \n",
       "1981-02-28     0.000000    0.146212     3.206854    0.440967   52.009327   \n",
       "1981-03-31     3.321553    2.109617    90.963905    6.727890  181.174277   \n",
       "1981-04-30    31.308575    7.266831    63.252223   17.095812  113.174518   \n",
       "1981-05-31    78.591566   35.860808   140.261632   77.489709  207.591562   \n",
       "...                 ...         ...          ...         ...         ...   \n",
       "2022-08-31   254.193568  268.714974   197.515479  283.810280   62.336173   \n",
       "2022-09-30   195.986965  143.299004   242.311991  229.312312  210.401037   \n",
       "2022-10-31    17.079898   16.014090    51.457809   25.429949  157.924151   \n",
       "2022-11-30     0.000000    0.417778     9.665133    1.552652   44.194282   \n",
       "2022-12-31     0.446935    0.325736     6.325747    1.588270   38.133233   \n",
       "\n",
       "                   Oti     Penjari  \n",
       "Date                                \n",
       "1981-01-31    0.000000    0.000000  \n",
       "1981-02-28    4.207938    0.000000  \n",
       "1981-03-31  106.531309   13.677208  \n",
       "1981-04-30   48.240848   69.913232  \n",
       "1981-05-31  161.008969  173.526988  \n",
       "...                ...         ...  \n",
       "2022-08-31  174.956372  266.400101  \n",
       "2022-09-30  284.098956  180.332295  \n",
       "2022-10-31  125.886952   84.981922  \n",
       "2022-11-30    9.202726    0.000000  \n",
       "2022-12-31    0.955443    0.219662  \n",
       "\n",
       "[504 rows x 7 columns]"
      ]
     },
     "execution_count": 5,
     "metadata": {},
     "output_type": "execute_result"
    }
   ],
   "source": [
    "Rainfall_BF_msum"
   ]
  },
  {
   "cell_type": "markdown",
   "id": "8d0aa084",
   "metadata": {},
   "source": [
    "#### load discharge data from analysis"
   ]
  },
  {
   "cell_type": "code",
   "execution_count": 6,
   "id": "dbc91b1d",
   "metadata": {},
   "outputs": [],
   "source": [
    "names = ['black volta, vonkoro',\n",
    "         'bougouriba, dan',\n",
    "         'mou houn, black volta, samandeni',\n",
    "         'mou houn, black volta,dapola',\n",
    "         'nakanbe, white volta, yakala',\n",
    "         'nakanbe, white volta, yilou',\n",
    "         'nazinon, red volta, dakaye',\n",
    "         'pendjari, porga',\n",
    "         'singou, samboali']"
   ]
  },
  {
   "cell_type": "markdown",
   "id": "5d4237f3",
   "metadata": {},
   "source": [
    "need a dictionary to link discharge to precipitation stations"
   ]
  },
  {
   "cell_type": "code",
   "execution_count": 7,
   "id": "c6407a39",
   "metadata": {},
   "outputs": [],
   "source": [
    "q_p_linking_dictionary = {'black volta, vonkoro': 'Black_Volta',\n",
    "                          'bougouriba, dan': 'Mouhoun',\n",
    "                          'mou houn, black volta, samandeni': 'Mouhoun',\n",
    "                          'mou houn, black volta,dapola': 'Black_Volta',\n",
    "                          'nakanbe, white volta, yakala': 'Nakambe',\n",
    "                          'nakanbe, white volta, yilou': 'Nakambe',\n",
    "                          'nazinon, red volta, dakaye': 'Nakambe',\n",
    "                          'pendjari, porga': 'Penjari',\n",
    "                          'singou, samboali': 'Penjari'}"
   ]
  },
  {
   "cell_type": "code",
   "execution_count": 8,
   "id": "90ad1925",
   "metadata": {},
   "outputs": [],
   "source": [
    "df_discharge_per_location_lst = []\n",
    "for name in names:\n",
    "    df_discharge = pd.read_excel(f\"{home_path}\\\\Combining data\\\\{name}.xlsx\",index_col=0)\n",
    "    df_discharge_per_location_lst.append(df_discharge)"
   ]
  },
  {
   "cell_type": "markdown",
   "id": "f9b83240",
   "metadata": {},
   "source": [
    "## Q"
   ]
  },
  {
   "cell_type": "code",
   "execution_count": 9,
   "id": "33155cab",
   "metadata": {},
   "outputs": [],
   "source": [
    "df_discharge_lst = []\n",
    "for index, df in enumerate(df_discharge_per_location_lst):\n",
    "    name = names[index]\n",
    "    df_discharge_location = df_discharge_per_location_lst[index].rename(columns={name:\"Q\"})\n",
    "    # get month with data\n",
    "    months_with_data = df_discharge_location.apply(lambda x: f'{x.name.month}-{x.name.year}', axis=1).unique()\n",
    "    \n",
    "    # get monthly sum\n",
    "    df_discharge = df_discharge_location.resample('M').sum()\n",
    "    \n",
    "    # do indexing magic to discard non-data-eyars\n",
    "    df_discharge['timestamp'] = df_discharge.apply(lambda x: x.name, axis=1)\n",
    "    df_discharge.index = df_discharge.apply(lambda x: f'{x.name.month}-{x.name.year}', axis=1)\n",
    "    df_discharge = df_discharge.loc[months_with_data]\n",
    "    df_discharge.index = df_discharge['timestamp']\n",
    "    df_discharge.drop(columns=\"timestamp\",inplace=True)\n",
    "    df_discharge.Q = df_discharge.apply(lambda x: x.Q * x.name.days_in_month * 24 * 3600 , axis=1)\n",
    "    df_discharge_lst.append(df_discharge)\n"
   ]
  },
  {
   "cell_type": "markdown",
   "id": "4dca9c30",
   "metadata": {},
   "source": [
    "## E"
   ]
  },
  {
   "cell_type": "markdown",
   "id": "4a491fc0",
   "metadata": {},
   "source": [
    "historic temperature data downloaded from [CMIP6](https://storage.googleapis.com/cmip6/pangeo-cmip6.json) model from NOAA-GFDL - "
   ]
  },
  {
   "cell_type": "code",
   "execution_count": 10,
   "id": "65aa4e47",
   "metadata": {},
   "outputs": [],
   "source": [
    "df_temperature = pd.read_excel(f\"{home_path}\\\\Evaporation\\\\daily_Near-Surface-Air-Temperature.xlsx\",\n",
    "# df_temperature = pd.read_excel(f\"{home_path}\\\\Evaporation\\\\mean_monthly_Near-Surface-Air-Temperature.xlsx\",\n",
    "                       index_col=0, parse_dates=True)\n",
    "df_temperature.rename(columns={0:\"Temperature\"},inplace=True)\n",
    "df_temperature_msum = df_temperature.resample('M').mean()"
   ]
  },
  {
   "cell_type": "markdown",
   "id": "bb4ce375",
   "metadata": {},
   "source": [
    "`dakaye` was chosen to as fairly centrally located"
   ]
  },
  {
   "cell_type": "code",
   "execution_count": 11,
   "id": "ec2f1e32",
   "metadata": {},
   "outputs": [],
   "source": [
    "lat = deg2rad(gdf_discharge_client[gdf_discharge_client['name']==\"dakaye\"].iloc[0].geometry.y)"
   ]
  },
  {
   "cell_type": "code",
   "execution_count": 12,
   "id": "cd00f776",
   "metadata": {},
   "outputs": [],
   "source": [
    "years = df_temperature_msum.index.year.unique()\n",
    "for year in years:\n",
    "    mmdlh = monthly_mean_daylight_hours(lat, year)\n",
    "    # use thornthwaite to calculate the \n",
    "    evap = thornthwaite(df_temperature_msum[f'{year}'].Temperature.to_list(), mmdlh, year=year)\n",
    "    set_items = df_temperature_msum[f'{year}'].index\n",
    "    df_temperature_msum.loc[set_items,\"evap\"] = evap"
   ]
  },
  {
   "cell_type": "markdown",
   "id": "68c5620f",
   "metadata": {},
   "source": [
    "# some function"
   ]
  },
  {
   "cell_type": "code",
   "execution_count": 13,
   "id": "22af2351",
   "metadata": {},
   "outputs": [],
   "source": [
    "def fobj_generalised(factor_evap, lst_dfs, year, return_df=False):\n",
    "    \"\"\"objective function to find the `factor_evap` which is the percentage of potential evaporation actually present\"\"\"\n",
    "    # unpack\n",
    "    df_discharge = lst_dfs[0]\n",
    "    rainfall_selected_basin = lst_dfs[1]\n",
    "    df_local_evaporation = lst_dfs[2]\n",
    "    \n",
    "    combined_df = df_discharge.copy()\n",
    "    combined_df[\"P\"] = rainfall_selected_basin[\"P\"]\n",
    "    combined_df[\"E\"] = factor_evap * df_local_evaporation[\"E\"]\n",
    "    combined_df[\"Diff\"] = combined_df[\"P\"] - combined_df[\"Q\"] - combined_df[\"E\"]\n",
    "    combined_df = combined_df.loc[combined_df.P.dropna().index] # remove lack of Precipitation data\n",
    "\n",
    "    # compute\n",
    "    yearly_sum = combined_df[f'{year}'].sum()\n",
    "    out = yearly_sum.P - yearly_sum.Q - yearly_sum.E\n",
    "    if return_df:\n",
    "        return combined_df\n",
    "    else:\n",
    "        return out"
   ]
  },
  {
   "cell_type": "code",
   "execution_count": 14,
   "id": "bf81f817",
   "metadata": {},
   "outputs": [],
   "source": [
    "def plot_combined_df(combined_df):    \n",
    "    \"\"\"Plots the combined_dfs constructed\"\"\"\n",
    "    fig, ax = plt.subplots(1)\n",
    "    ax.set_xlabel(\"Date\")\n",
    "    ax.set_ylabel(\"$m^3/month$\")\n",
    "    for val in [\"P\",\"Q\",\"E\"]:\n",
    "        combined_df[val].plot(marker='.',lw=0.5, ax=ax,label=val)\n",
    "\n",
    "    combined_df[\"Diff\"].plot(ax=ax,label=\"Difference\")\n",
    "    ax.get_xlim()\n",
    "    ax.set_title(f\"Water balance\")\n",
    "    ax.legend()\n",
    "    ax.axhline(0, alpha=0.2, ls=\"--\", color=\"C4\" )"
   ]
  },
  {
   "cell_type": "markdown",
   "id": "bf01e4d9",
   "metadata": {},
   "source": [
    "# now run per station:"
   ]
  },
  {
   "cell_type": "code",
   "execution_count": 15,
   "id": "9c9fc371",
   "metadata": {
    "scrolled": false
   },
   "outputs": [
    {
     "name": "stdout",
     "output_type": "stream",
     "text": [
      "                      Year    Factor              Location\n",
      "black volta, vonkoro                                      \n",
      "0                     1982  0.322133  black volta, vonkoro\n",
      "1                     1993  0.243763  black volta, vonkoro\n",
      "                 Year    Factor         Location\n",
      "bougouriba, dan                                 \n",
      "0                1981 -0.233770  bougouriba, dan\n",
      "1                1982 -0.078619  bougouriba, dan\n",
      "2                1983  0.294991  bougouriba, dan\n",
      "no river segment found\n",
      "                             Year    Factor                     Location\n",
      "nakanbe, white volta, yilou                                             \n",
      "0                            1981 -0.020288  nakanbe, white volta, yilou\n",
      "1                            1982  0.293072  nakanbe, white volta, yilou\n",
      "no river segment found\n",
      "                 Year    Factor         Location\n",
      "pendjari, porga                                 \n",
      "0                1981 -0.123541  pendjari, porga\n",
      "1                1982 -0.008848  pendjari, porga\n",
      "2                1983  0.027523  pendjari, porga\n",
      "3                1984  0.209215  pendjari, porga\n",
      "4                1990  0.069535  pendjari, porga\n",
      "no river segment found\n"
     ]
    }
   ],
   "source": [
    "output_coefficients_df = []\n",
    "for station_index in range(len(names)):\n",
    "    # get corresponding names\n",
    "    station_name = names[station_index]\n",
    "    station_precip = q_p_linking_dictionary[station_name]\n",
    "\n",
    "    # do geoanalysis\n",
    "    point_discharge = gdf_discharge_client.iloc[station_index].geometry.buffer(0.05)\n",
    "    selected_segement =  main_rivers[main_rivers.crosses(point_discharge)]\n",
    "    \n",
    "    if len(selected_segement) < 1:\n",
    "        print(\"no river segment found\")\n",
    "        # error in finding river segment, we stop\n",
    "    else:\n",
    "        # get the first segment to enter the buffer around the station\n",
    "        selected_location = main_rivers.loc[selected_segement.index[0],:]\n",
    "        # retreive the area\n",
    "        selected_basin_area = selected_location.UPLAND_SKM* 10**6  # km^2 -> m^2\n",
    "\n",
    "        # get precipitation\n",
    "        rainfall_selected_basin = Rainfall_BF_msum[[station_precip]].rename(columns={station_precip:\"P\"})\n",
    "        rainfall_selected_basin.P = rainfall_selected_basin.P * selected_basin_area / 1000 # mm/month * m^2 ->/1000 \n",
    "\n",
    "        # get evaporation\n",
    "        df_local_evaporation = df_temperature_msum[['evap']] * selected_basin_area / 1000 # mm/month * m^2 ->/1000 \n",
    "        df_local_evaporation.rename(columns={'evap':'E'},inplace=True)\n",
    "        ### do initial compute, but E will be too high\n",
    "        combined_df = df_discharge_lst[station_index].copy()\n",
    "        combined_df[\"P\"] = rainfall_selected_basin[\"P\"]\n",
    "        combined_df[\"E\"] = df_local_evaporation[\"E\"]\n",
    "        combined_df[\"Diff\"] = combined_df[\"P\"] - combined_df[\"Q\"] - combined_df[\"E\"]\n",
    "        combined_df = combined_df.loc[combined_df.P.dropna().index] # remove lack of Precipitation data\n",
    "        # some cases no overlap in data\n",
    "        if len(combined_df) > 0:\n",
    "\n",
    "            lst_coefficients = []\n",
    "            for year in combined_df.index.year.unique():\n",
    "                if len(df_discharge_lst[station_index][f'{year}']) < 10: \n",
    "                    # remove year with too few observations\n",
    "                    pass\n",
    "                else:\n",
    "                    lst_dfs_fobj_input = [df_discharge_lst[station_index], rainfall_selected_basin, df_local_evaporation]\n",
    "                    sol = root(fobj_generalised, 1.2, args=(lst_dfs_fobj_input, year))\n",
    "                    lst_coefficients.append(sol.x[0])\n",
    "#                     df_fitted= fobj_generalised(sol.x[0], lst_dfs_fobj_input,year, True)\n",
    "                \n",
    "                \n",
    "\n",
    "            location_lst = [station_name for i in range(len(lst_coefficients))]\n",
    "            output_df = pd.DataFrame(columns=['Year',\"Factor\",\"Location\"],\n",
    "                                     data=list(zip(combined_df.index.year.unique(), lst_coefficients, location_lst)))\n",
    "            output_df.index.name = station_name\n",
    "            output_coefficients_df.append(output_df)\n",
    "            print(output_df)\n",
    "    "
   ]
  },
  {
   "cell_type": "code",
   "execution_count": 16,
   "id": "19d6b25c",
   "metadata": {},
   "outputs": [],
   "source": [
    "combined_factors = pd.concat(output_coefficients_df)\n",
    "combined_factors.sort_values(\"Year\",inplace=True)\n",
    "combined_factors.reset_index(inplace=True,drop=True)"
   ]
  },
  {
   "cell_type": "code",
   "execution_count": 18,
   "id": "a1a5576e",
   "metadata": {},
   "outputs": [
    {
     "data": {
      "text/plain": [
       "Text(0.5, 1.0, 'Results from different model fits with $\\\\mu$:0.2726')"
      ]
     },
     "execution_count": 18,
     "metadata": {},
     "output_type": "execute_result"
    },
    {
     "data": {
      "image/png": "[encoded data removed]",
      "text/plain": [
       "<Figure size 640x480 with 1 Axes>"
      ]
     },
     "metadata": {},
     "output_type": "display_data"
    }
   ],
   "source": [
    "fig, ax = plt.subplots(1)\n",
    "ax.plot(combined_factors[\"Year\"].values,combined_factors[\"Factor\"].values,marker='.', lw=0)\n",
    "ax.set_ylim(0,0.5)\n",
    "# median_factor = combined_factors[\"Factor\"][combined_factors[\"Factor\"]>0.2].median()\n",
    "# ax.axhline(median_factor,color=\"g\",alpha=0.3)\n",
    "\n",
    "mean_factor = combined_factors[\"Factor\"][combined_factors[\"Factor\"]>0.2].mean()\n",
    "ax.axhline(mean_factor,color=\"r\",alpha=0.3)\n",
    "\n",
    "ax.set_xlabel(\"year\")\n",
    "ax.set_ylabel(\"Factor Ea of Ep\")\n",
    "ax.set_title(f\"Results from different model fits with $\\mu$:{mean_factor:.4f}\")"
   ]
  },
  {
   "cell_type": "code",
   "execution_count": null,
   "id": "9898e753",
   "metadata": {},
   "outputs": [],
   "source": []
  }
 ],
 "metadata": {
  "kernelspec": {
   "display_name": "Python 3 (ipykernel)",
   "language": "python",
   "name": "python3"
  },
  "language_info": {
   "codemirror_mode": {
    "name": "ipython",
    "version": 3
   },
   "file_extension": ".py",
   "mimetype": "text/x-python",
   "name": "python",
   "nbconvert_exporter": "python",
   "pygments_lexer": "ipython3",
   "version": "3.11.0"
  }
 },
 "nbformat": 4,
 "nbformat_minor": 5
}
