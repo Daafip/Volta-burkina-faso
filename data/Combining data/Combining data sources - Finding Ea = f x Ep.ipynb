{
 "cells": [
  {
   "cell_type": "markdown",
   "id": "da7579e1",
   "metadata": {},
   "source": [
    "import packages"
   ]
  },
  {
   "cell_type": "code",
   "execution_count": 1,
   "id": "d00ed0eb",
   "metadata": {},
   "outputs": [],
   "source": [
    "import glob\n",
    "import os\n",
    "\n",
    "# data/plot management\n",
    "import pandas as pd\n",
    "import matplotlib\n",
    "import matplotlib.pyplot as plt\n",
    "import numpy as np\n",
    "\n",
    "import warnings\n",
    "\n",
    "# plotting/mapmaknig\n",
    "import geopandas as gpd\n",
    "from geospatial_functions import get_background_map\n",
    "import rasterio\n",
    "from rasterio.plot import show as rioshow\n",
    "import folium\n",
    "\n",
    "# adding 'custom script' \n",
    "#Ensure the [Pyeto](https://github.com/woodcrafty/PyETo) package is present in your \n",
    "# \"C:\\Users\\{USERNAME}\\anaconda3\\envs\\{ENVIRONMENT}\\Lib\\\",or \"C:\\Users\\{USERNAME}\\anaconda3\\Lib\\\",\n",
    "from pyeto import thornthwaite, monthly_mean_daylight_hours, deg2rad\n",
    "\n",
    "from scipy.optimize import root\n",
    "\n",
    "warnings.simplefilter('ignore')"
   ]
  },
  {
   "cell_type": "markdown",
   "id": "2e9dfc29",
   "metadata": {},
   "source": [
    "add some useful paths to navigate shared storage:"
   ]
  },
  {
   "cell_type": "code",
   "execution_count": 2,
   "id": "20167c69",
   "metadata": {},
   "outputs": [],
   "source": [
    "path = os.getcwd()\n",
    "home_path = os.path.dirname(path)\n",
    "main_folder = os.path.dirname(home_path)\n",
    "\n",
    "gis_folder = f'{main_folder}\\\\QGIS project'"
   ]
  },
  {
   "cell_type": "markdown",
   "id": "e3756da7",
   "metadata": {},
   "source": [
    "add some spatial data"
   ]
  },
  {
   "cell_type": "code",
   "execution_count": 3,
   "id": "a4bf64b0",
   "metadata": {},
   "outputs": [],
   "source": [
    "country_outline = gpd.read_file(f\"{gis_folder}\\\\country_outline_32630.gpkg\")\n",
    "volta_outline = gpd.read_file(f\"{gis_folder}\\\\volta_watershed_vector_32630.gpkg\",crs=\"epsg:32630\")\n",
    "main_rivers = gpd.read_file(f\"{gis_folder}\\\\main_rivers_volta.gpkg\",crs=\"epsg:32630\")\n",
    "\n",
    "country_outline = country_outline.set_geometry(country_outline.geometry.to_crs('EPSG:4326'))\n",
    "volta_outline = volta_outline.set_geometry(volta_outline.geometry.to_crs('EPSG:4326'))\n",
    "main_rivers = main_rivers.set_geometry(main_rivers.geometry.to_crs('EPSG:4326'))\n",
    "\n",
    "gdf_discharge_client = gpd.read_file('discharge_data_client.geojson',crs=\"EPSG:4326\")\n",
    "gdf_discharge_client['name'] = gdf_discharge_client.apply(lambda x: x['name'].split(\",\")[-1][:-4].strip().lower(),axis=1)"
   ]
  },
  {
   "cell_type": "markdown",
   "id": "6014e2bf",
   "metadata": {},
   "source": [
    "# make general:"
   ]
  },
  {
   "cell_type": "markdown",
   "id": "ff1f1c73",
   "metadata": {},
   "source": [
    "#### load precipitation data from analysis"
   ]
  },
  {
   "cell_type": "code",
   "execution_count": 4,
   "id": "a21cf2af",
   "metadata": {},
   "outputs": [
    {
     "data": {
      "text/plain": [
       "Index(['Black_Volta', 'Lake_Volta', 'Mouhoun', 'Nakambe', 'Oti', 'Penjari'], dtype='object')"
      ]
     },
     "execution_count": 4,
     "metadata": {},
     "output_type": "execute_result"
    }
   ],
   "source": [
    "Rainfall_BF_msum = pd.read_excel(\"Monthly_sum_rainfall_new.xlsx\",index_col=0)\n",
    "Rainfall_BF_msum.columns"
   ]
  },
  {
   "cell_type": "code",
   "execution_count": 5,
   "id": "e364111e",
   "metadata": {},
   "outputs": [
    {
     "data": {
      "text/html": [
       "<div>\n",
       "<style scoped>\n",
       "    .dataframe tbody tr th:only-of-type {\n",
       "        vertical-align: middle;\n",
       "    }\n",
       "\n",
       "    .dataframe tbody tr th {\n",
       "        vertical-align: top;\n",
       "    }\n",
       "\n",
       "    .dataframe thead th {\n",
       "        text-align: right;\n",
       "    }\n",
       "</style>\n",
       "<table border=\"1\" class=\"dataframe\">\n",
       "  <thead>\n",
       "    <tr style=\"text-align: right;\">\n",
       "      <th></th>\n",
       "      <th>Black_Volta</th>\n",
       "      <th>Lake_Volta</th>\n",
       "      <th>Mouhoun</th>\n",
       "      <th>Nakambe</th>\n",
       "      <th>Oti</th>\n",
       "      <th>Penjari</th>\n",
       "    </tr>\n",
       "    <tr>\n",
       "      <th>Date</th>\n",
       "      <th></th>\n",
       "      <th></th>\n",
       "      <th></th>\n",
       "      <th></th>\n",
       "      <th></th>\n",
       "      <th></th>\n",
       "    </tr>\n",
       "  </thead>\n",
       "  <tbody>\n",
       "    <tr>\n",
       "      <th>1979-01-31</th>\n",
       "      <td>0.07</td>\n",
       "      <td>22.16</td>\n",
       "      <td>0.00</td>\n",
       "      <td>0.00</td>\n",
       "      <td>2.11</td>\n",
       "      <td>0.00</td>\n",
       "    </tr>\n",
       "    <tr>\n",
       "      <th>1979-02-28</th>\n",
       "      <td>0.19</td>\n",
       "      <td>8.30</td>\n",
       "      <td>0.00</td>\n",
       "      <td>0.00</td>\n",
       "      <td>0.12</td>\n",
       "      <td>0.00</td>\n",
       "    </tr>\n",
       "    <tr>\n",
       "      <th>1979-03-31</th>\n",
       "      <td>34.61</td>\n",
       "      <td>112.79</td>\n",
       "      <td>16.96</td>\n",
       "      <td>1.08</td>\n",
       "      <td>67.49</td>\n",
       "      <td>21.70</td>\n",
       "    </tr>\n",
       "    <tr>\n",
       "      <th>1979-04-30</th>\n",
       "      <td>67.99</td>\n",
       "      <td>91.50</td>\n",
       "      <td>6.50</td>\n",
       "      <td>1.10</td>\n",
       "      <td>108.33</td>\n",
       "      <td>30.42</td>\n",
       "    </tr>\n",
       "    <tr>\n",
       "      <th>1979-05-31</th>\n",
       "      <td>153.06</td>\n",
       "      <td>220.44</td>\n",
       "      <td>106.28</td>\n",
       "      <td>36.68</td>\n",
       "      <td>138.56</td>\n",
       "      <td>81.21</td>\n",
       "    </tr>\n",
       "  </tbody>\n",
       "</table>\n",
       "</div>"
      ],
      "text/plain": [
       "            Black_Volta  Lake_Volta  Mouhoun  Nakambe     Oti  Penjari\n",
       "Date                                                                  \n",
       "1979-01-31         0.07       22.16     0.00     0.00    2.11     0.00\n",
       "1979-02-28         0.19        8.30     0.00     0.00    0.12     0.00\n",
       "1979-03-31        34.61      112.79    16.96     1.08   67.49    21.70\n",
       "1979-04-30        67.99       91.50     6.50     1.10  108.33    30.42\n",
       "1979-05-31       153.06      220.44   106.28    36.68  138.56    81.21"
      ]
     },
     "execution_count": 5,
     "metadata": {},
     "output_type": "execute_result"
    }
   ],
   "source": [
    "Rainfall_BF_msum.head()"
   ]
  },
  {
   "cell_type": "markdown",
   "id": "8d0aa084",
   "metadata": {},
   "source": [
    "#### load discharge data from analysis"
   ]
  },
  {
   "cell_type": "code",
   "execution_count": 6,
   "id": "dbc91b1d",
   "metadata": {},
   "outputs": [],
   "source": [
    "names = ['black volta, vonkoro',\n",
    "         'bougouriba, dan',\n",
    "         'mou houn, black volta, samandeni',\n",
    "         'mou houn, black volta,dapola',\n",
    "         'nakanbe, white volta, yakala',\n",
    "         'nakanbe, white volta, yilou',\n",
    "         'nazinon, red volta, dakaye',\n",
    "         'pendjari, porga',\n",
    "         'singou, samboali']"
   ]
  },
  {
   "cell_type": "markdown",
   "id": "5d4237f3",
   "metadata": {},
   "source": [
    "need a dictionary to link discharge to precipitation stations"
   ]
  },
  {
   "cell_type": "code",
   "execution_count": 7,
   "id": "c6407a39",
   "metadata": {},
   "outputs": [],
   "source": [
    "q_p_linking_dictionary = {'black volta, vonkoro': 'Black_Volta',\n",
    "                          'bougouriba, dan': 'Mouhoun',\n",
    "                          'mou houn, black volta, samandeni': 'Mouhoun',\n",
    "                          'mou houn, black volta,dapola': 'Black_Volta',\n",
    "                          'nakanbe, white volta, yakala': 'Nakambe',\n",
    "                          'nakanbe, white volta, yilou': 'Nakambe',\n",
    "                          'nazinon, red volta, dakaye': 'Nakambe',\n",
    "                          'pendjari, porga': 'Penjari',\n",
    "                          'singou, samboali': 'Penjari'}"
   ]
  },
  {
   "cell_type": "code",
   "execution_count": 8,
   "id": "90ad1925",
   "metadata": {},
   "outputs": [],
   "source": [
    "df_discharge_per_location_lst = []\n",
    "for name in names:\n",
    "    df_discharge = pd.read_excel(f\"{home_path}\\\\Combining data\\\\{name}.xlsx\",index_col=0)\n",
    "    df_discharge_per_location_lst.append(df_discharge)"
   ]
  },
  {
   "cell_type": "markdown",
   "id": "f9b83240",
   "metadata": {},
   "source": [
    "## Q"
   ]
  },
  {
   "cell_type": "code",
   "execution_count": 9,
   "id": "33155cab",
   "metadata": {},
   "outputs": [],
   "source": [
    "df_discharge_lst = []\n",
    "for index, df in enumerate(df_discharge_per_location_lst):\n",
    "    name = names[index]\n",
    "    df_discharge_location = df_discharge_per_location_lst[index].rename(columns={name:\"Q\"})\n",
    "    # get month with data\n",
    "    months_with_data = df_discharge_location.apply(lambda x: f'{x.name.month}-{x.name.year}', axis=1).unique()\n",
    "    \n",
    "    # get monthly sum\n",
    "    df_discharge = df_discharge_location.resample('M').sum()\n",
    "    \n",
    "    # do indexing magic to discard non-data-eyars\n",
    "    df_discharge['timestamp'] = df_discharge.apply(lambda x: x.name, axis=1)\n",
    "    df_discharge.index = df_discharge.apply(lambda x: f'{x.name.month}-{x.name.year}', axis=1)\n",
    "    df_discharge = df_discharge.loc[months_with_data]\n",
    "    df_discharge.index = df_discharge['timestamp']\n",
    "    df_discharge.drop(columns=\"timestamp\",inplace=True)\n",
    "    df_discharge.Q = df_discharge.apply(lambda x: x.Q * x.name.days_in_month * 24 * 3600 , axis=1)\n",
    "    df_discharge_lst.append(df_discharge)\n"
   ]
  },
  {
   "cell_type": "markdown",
   "id": "4dca9c30",
   "metadata": {},
   "source": [
    "## E"
   ]
  },
  {
   "cell_type": "markdown",
   "id": "4a491fc0",
   "metadata": {},
   "source": [
    "historic temperature data downloaded from [CMIP6](https://storage.googleapis.com/cmip6/pangeo-cmip6.json) model from NOAA-GFDL - "
   ]
  },
  {
   "cell_type": "code",
   "execution_count": 10,
   "id": "65aa4e47",
   "metadata": {},
   "outputs": [],
   "source": [
    "df_temperature = pd.read_excel(f\"{home_path}\\\\Evaporation\\\\daily_Near-Surface-Air-Temperature.xlsx\",\n",
    "# df_temperature = pd.read_excel(f\"{home_path}\\\\Evaporation\\\\mean_monthly_Near-Surface-Air-Temperature.xlsx\",\n",
    "                       index_col=0, parse_dates=True)\n",
    "df_temperature.rename(columns={0:\"Temperature\"},inplace=True)\n",
    "df_temperature_msum = df_temperature.resample('M').mean()"
   ]
  },
  {
   "cell_type": "code",
   "execution_count": 20,
   "id": "b40bbb64",
   "metadata": {},
   "outputs": [],
   "source": [
    "df_used_temp = df_temperature.loc[df_temperature.index.year > 1981]"
   ]
  },
  {
   "cell_type": "code",
   "execution_count": 65,
   "id": "1a01cde6",
   "metadata": {},
   "outputs": [],
   "source": [
    "lst_temps = []\n",
    "months = []\n",
    "for i in range(1,12+1):\n",
    "    lst_temps.append(df_used_temp[df_used_temp.index.month==i].mean().Temperature)\n",
    "    months.append(i)\n",
    "df = pd.DataFrame(data=zip(months,lst_temps), columns=[\"months\",\"Temperature\"])"
   ]
  },
  {
   "cell_type": "code",
   "execution_count": 67,
   "id": "9b92e1ce",
   "metadata": {},
   "outputs": [
    {
     "data": {
      "image/png": "[encoded data removed]",
      "text/plain": [
       "<Figure size 640x480 with 1 Axes>"
      ]
     },
     "metadata": {},
     "output_type": "display_data"
    }
   ],
   "source": [
    "fig, ax = plt.subplots(1)\n",
    "\n",
    "ax.plot(df.months,df.Temperature,marker=\".\",color=\"C3\")\n",
    "ax.set_title(\"Monthly average temperature data between 1981 and 2014\")\n",
    "ax.set_ylabel(\"Temperature $^\\circ$C\")\n",
    "ax.set_xticks(df.months)\n",
    "ax.set_xticklabels(['Jan','Feb','March','April','May','June','July','August','Sept','Oct','Nov','Dec'])\n",
    "fig.savefig('Monthly average temperature data between 1981 and 2014.png')"
   ]
  },
  {
   "cell_type": "markdown",
   "id": "bb4ce375",
   "metadata": {},
   "source": [
    "`dakaye` was chosen to as fairly centrally located"
   ]
  },
  {
   "cell_type": "code",
   "execution_count": 12,
   "id": "ec2f1e32",
   "metadata": {},
   "outputs": [],
   "source": [
    "lat = deg2rad(gdf_discharge_client[gdf_discharge_client['name']==\"dakaye\"].iloc[0].geometry.y)"
   ]
  },
  {
   "cell_type": "code",
   "execution_count": 13,
   "id": "cd00f776",
   "metadata": {},
   "outputs": [],
   "source": [
    "years = df_temperature_msum.index.year.unique()\n",
    "for year in years:\n",
    "    mmdlh = monthly_mean_daylight_hours(lat, year)\n",
    "    # use thornthwaite to calculate the \n",
    "    evap = thornthwaite(df_temperature_msum[f'{year}'].Temperature.to_list(), mmdlh, year=year)\n",
    "    set_items = df_temperature_msum[f'{year}'].index\n",
    "    df_temperature_msum.loc[set_items,\"evap\"] = evap"
   ]
  },
  {
   "cell_type": "markdown",
   "id": "68c5620f",
   "metadata": {},
   "source": [
    "# some function"
   ]
  },
  {
   "cell_type": "code",
   "execution_count": 14,
   "id": "22af2351",
   "metadata": {},
   "outputs": [],
   "source": [
    "def fobj_generalised(factors, lst_dfs, year, return_df=False):\n",
    "    \"\"\"objective function to find the `factor_evap` which is the percentage of potential evaporation actually present\"\"\"\n",
    "    # unpack\n",
    "    df_discharge = lst_dfs[0]\n",
    "    rainfall_selected_basin = lst_dfs[1]\n",
    "    df_local_evaporation = lst_dfs[2]\n",
    "    \n",
    "    factor_evap_dry = factors[0]\n",
    "    factor_evap_wet = factors[1]\n",
    "\n",
    "#     # always make dry less\n",
    "#     if  factor_evap_dry > factor_evap_wet:\n",
    "#         temp = factor_evap_dry\n",
    "#         factor_evap_dry = factor_evap_wet\n",
    "#         factor_evap_wet = temp + .1\n",
    "#     # account for negative    \n",
    "#     if factor_evap_dry < 0:\n",
    "#         factor_evap_dry = 0\n",
    "\n",
    "#     if factor_evap_wet < 0:\n",
    "#         factor_evap_wet = -factor_evap_wet\n",
    "    # split df_temperature_msum in wet and dry season\n",
    "    mask = ((df_local_evaporation.index.month >= 5) & (df_local_evaporation.index.month <= 11))\n",
    "    df_growing = df_local_evaporation[mask]\n",
    "    df_dry = df_local_evaporation[~mask]\n",
    "\n",
    "    df_growing_f = factor_evap_wet * df_growing[[\"E\"]]\n",
    "    df_dry_f = factor_evap_dry * df_dry[[\"E\"]]\n",
    "\n",
    "    df_combining_evap = pd.concat([df_growing_f,df_dry_f])\n",
    "    df_combining_evap.sort_index(inplace=True)\n",
    "\n",
    "    ### do initial compute, but E will be too high\n",
    "    combined_df = df_discharge_lst[station_index].copy()\n",
    "    combined_df[\"P\"] = rainfall_selected_basin[\"P\"]\n",
    "    combined_df[\"E\"] = df_combining_evap[\"E\"]\n",
    "    combined_df[\"Diff\"] = combined_df[\"P\"] - combined_df[\"Q\"] - combined_df[\"E\"]\n",
    "    combined_df = combined_df.loc[combined_df.P.dropna().index] # remove lack of Precipitation data\n",
    "\n",
    "    # compute\n",
    "    yearly_sum = combined_df[f'{year}'].sum()\n",
    "    out = yearly_sum.P - yearly_sum.Q - yearly_sum.E\n",
    "    if return_df:\n",
    "        return combined_df\n",
    "    else:\n",
    "        return out, out"
   ]
  },
  {
   "cell_type": "code",
   "execution_count": 15,
   "id": "bf81f817",
   "metadata": {},
   "outputs": [],
   "source": [
    "def plot_combined_df(combined_df):    \n",
    "    \"\"\"Plots the combined_dfs constructed\"\"\"\n",
    "    fig, ax = plt.subplots(1)\n",
    "    ax.set_xlabel(\"Date\")\n",
    "    ax.set_ylabel(\"$m^3/month$\")\n",
    "    for val in [\"P\",\"Q\",\"E\"]:\n",
    "        combined_df[val].plot(marker='.',lw=0.5, ax=ax,label=val)\n",
    "\n",
    "    combined_df[\"Diff\"].plot(ax=ax,label=\"Difference\")\n",
    "    ax.get_xlim()\n",
    "    ax.set_title(f\"Water balance\")\n",
    "    ax.legend()\n",
    "    ax.axhline(0, alpha=0.2, ls=\"--\", color=\"C4\" )"
   ]
  },
  {
   "cell_type": "markdown",
   "id": "bf01e4d9",
   "metadata": {},
   "source": [
    "# now run per station:"
   ]
  },
  {
   "cell_type": "code",
   "execution_count": 17,
   "id": "9c9fc371",
   "metadata": {
    "scrolled": false
   },
   "outputs": [
    {
     "data": {
      "text/html": [
       "<div>\n",
       "<style scoped>\n",
       "    .dataframe tbody tr th:only-of-type {\n",
       "        vertical-align: middle;\n",
       "    }\n",
       "\n",
       "    .dataframe tbody tr th {\n",
       "        vertical-align: top;\n",
       "    }\n",
       "\n",
       "    .dataframe thead th {\n",
       "        text-align: right;\n",
       "    }\n",
       "</style>\n",
       "<table border=\"1\" class=\"dataframe\">\n",
       "  <thead>\n",
       "    <tr style=\"text-align: right;\">\n",
       "      <th></th>\n",
       "      <th>Year</th>\n",
       "      <th>Factor_dry</th>\n",
       "      <th>Factor_wet</th>\n",
       "      <th>Location</th>\n",
       "    </tr>\n",
       "    <tr>\n",
       "      <th>black volta, vonkoro</th>\n",
       "      <th></th>\n",
       "      <th></th>\n",
       "      <th></th>\n",
       "      <th></th>\n",
       "    </tr>\n",
       "  </thead>\n",
       "  <tbody>\n",
       "    <tr>\n",
       "      <th>0</th>\n",
       "      <td>1979</td>\n",
       "      <td>-0.355076</td>\n",
       "      <td>-0.135643</td>\n",
       "      <td>black volta, vonkoro</td>\n",
       "    </tr>\n",
       "    <tr>\n",
       "      <th>1</th>\n",
       "      <td>1982</td>\n",
       "      <td>0.061866</td>\n",
       "      <td>0.425000</td>\n",
       "      <td>black volta, vonkoro</td>\n",
       "    </tr>\n",
       "    <tr>\n",
       "      <th>2</th>\n",
       "      <td>1993</td>\n",
       "      <td>0.031431</td>\n",
       "      <td>0.300000</td>\n",
       "      <td>black volta, vonkoro</td>\n",
       "    </tr>\n",
       "  </tbody>\n",
       "</table>\n",
       "</div>"
      ],
      "text/plain": [
       "                      Year  Factor_dry  Factor_wet              Location\n",
       "black volta, vonkoro                                                    \n",
       "0                     1979   -0.355076   -0.135643  black volta, vonkoro\n",
       "1                     1982    0.061866    0.425000  black volta, vonkoro\n",
       "2                     1993    0.031431    0.300000  black volta, vonkoro"
      ]
     },
     "metadata": {},
     "output_type": "display_data"
    },
    {
     "data": {
      "text/html": [
       "<div>\n",
       "<style scoped>\n",
       "    .dataframe tbody tr th:only-of-type {\n",
       "        vertical-align: middle;\n",
       "    }\n",
       "\n",
       "    .dataframe tbody tr th {\n",
       "        vertical-align: top;\n",
       "    }\n",
       "\n",
       "    .dataframe thead th {\n",
       "        text-align: right;\n",
       "    }\n",
       "</style>\n",
       "<table border=\"1\" class=\"dataframe\">\n",
       "  <thead>\n",
       "    <tr style=\"text-align: right;\">\n",
       "      <th></th>\n",
       "      <th>Year</th>\n",
       "      <th>Factor_dry</th>\n",
       "      <th>Factor_wet</th>\n",
       "      <th>Location</th>\n",
       "    </tr>\n",
       "    <tr>\n",
       "      <th>bougouriba, dan</th>\n",
       "      <th></th>\n",
       "      <th></th>\n",
       "      <th></th>\n",
       "      <th></th>\n",
       "    </tr>\n",
       "  </thead>\n",
       "  <tbody>\n",
       "    <tr>\n",
       "      <th>0</th>\n",
       "      <td>1979</td>\n",
       "      <td>-4.237138</td>\n",
       "      <td>1.357391</td>\n",
       "      <td>bougouriba, dan</td>\n",
       "    </tr>\n",
       "    <tr>\n",
       "      <th>1</th>\n",
       "      <td>1980</td>\n",
       "      <td>0.274483</td>\n",
       "      <td>-0.700000</td>\n",
       "      <td>bougouriba, dan</td>\n",
       "    </tr>\n",
       "    <tr>\n",
       "      <th>2</th>\n",
       "      <td>1981</td>\n",
       "      <td>-0.284786</td>\n",
       "      <td>-0.260827</td>\n",
       "      <td>bougouriba, dan</td>\n",
       "    </tr>\n",
       "    <tr>\n",
       "      <th>3</th>\n",
       "      <td>1982</td>\n",
       "      <td>-0.545200</td>\n",
       "      <td>0.300000</td>\n",
       "      <td>bougouriba, dan</td>\n",
       "    </tr>\n",
       "    <tr>\n",
       "      <th>4</th>\n",
       "      <td>1983</td>\n",
       "      <td>0.242264</td>\n",
       "      <td>0.254695</td>\n",
       "      <td>bougouriba, dan</td>\n",
       "    </tr>\n",
       "  </tbody>\n",
       "</table>\n",
       "</div>"
      ],
      "text/plain": [
       "                 Year  Factor_dry  Factor_wet         Location\n",
       "bougouriba, dan                                               \n",
       "0                1979   -4.237138    1.357391  bougouriba, dan\n",
       "1                1980    0.274483   -0.700000  bougouriba, dan\n",
       "2                1981   -0.284786   -0.260827  bougouriba, dan\n",
       "3                1982   -0.545200    0.300000  bougouriba, dan\n",
       "4                1983    0.242264    0.254695  bougouriba, dan"
      ]
     },
     "metadata": {},
     "output_type": "display_data"
    },
    {
     "name": "stdout",
     "output_type": "stream",
     "text": [
      "no river segment found\n"
     ]
    },
    {
     "data": {
      "text/html": [
       "<div>\n",
       "<style scoped>\n",
       "    .dataframe tbody tr th:only-of-type {\n",
       "        vertical-align: middle;\n",
       "    }\n",
       "\n",
       "    .dataframe tbody tr th {\n",
       "        vertical-align: top;\n",
       "    }\n",
       "\n",
       "    .dataframe thead th {\n",
       "        text-align: right;\n",
       "    }\n",
       "</style>\n",
       "<table border=\"1\" class=\"dataframe\">\n",
       "  <thead>\n",
       "    <tr style=\"text-align: right;\">\n",
       "      <th></th>\n",
       "      <th>Year</th>\n",
       "      <th>Factor_dry</th>\n",
       "      <th>Factor_wet</th>\n",
       "      <th>Location</th>\n",
       "    </tr>\n",
       "    <tr>\n",
       "      <th>nakanbe, white volta, yilou</th>\n",
       "      <th></th>\n",
       "      <th></th>\n",
       "      <th></th>\n",
       "      <th></th>\n",
       "    </tr>\n",
       "  </thead>\n",
       "  <tbody>\n",
       "    <tr>\n",
       "      <th>0</th>\n",
       "      <td>1979</td>\n",
       "      <td>0.110141</td>\n",
       "      <td>0.250392</td>\n",
       "      <td>nakanbe, white volta, yilou</td>\n",
       "    </tr>\n",
       "    <tr>\n",
       "      <th>1</th>\n",
       "      <td>1980</td>\n",
       "      <td>0.062623</td>\n",
       "      <td>0.204734</td>\n",
       "      <td>nakanbe, white volta, yilou</td>\n",
       "    </tr>\n",
       "    <tr>\n",
       "      <th>2</th>\n",
       "      <td>1981</td>\n",
       "      <td>0.091330</td>\n",
       "      <td>0.175000</td>\n",
       "      <td>nakanbe, white volta, yilou</td>\n",
       "    </tr>\n",
       "    <tr>\n",
       "      <th>3</th>\n",
       "      <td>1982</td>\n",
       "      <td>0.074508</td>\n",
       "      <td>0.268404</td>\n",
       "      <td>nakanbe, white volta, yilou</td>\n",
       "    </tr>\n",
       "  </tbody>\n",
       "</table>\n",
       "</div>"
      ],
      "text/plain": [
       "                             Year  Factor_dry  Factor_wet  \\\n",
       "nakanbe, white volta, yilou                                 \n",
       "0                            1979    0.110141    0.250392   \n",
       "1                            1980    0.062623    0.204734   \n",
       "2                            1981    0.091330    0.175000   \n",
       "3                            1982    0.074508    0.268404   \n",
       "\n",
       "                                                Location  \n",
       "nakanbe, white volta, yilou                               \n",
       "0                            nakanbe, white volta, yilou  \n",
       "1                            nakanbe, white volta, yilou  \n",
       "2                            nakanbe, white volta, yilou  \n",
       "3                            nakanbe, white volta, yilou  "
      ]
     },
     "metadata": {},
     "output_type": "display_data"
    },
    {
     "name": "stdout",
     "output_type": "stream",
     "text": [
      "no river segment found\n"
     ]
    },
    {
     "data": {
      "text/html": [
       "<div>\n",
       "<style scoped>\n",
       "    .dataframe tbody tr th:only-of-type {\n",
       "        vertical-align: middle;\n",
       "    }\n",
       "\n",
       "    .dataframe tbody tr th {\n",
       "        vertical-align: top;\n",
       "    }\n",
       "\n",
       "    .dataframe thead th {\n",
       "        text-align: right;\n",
       "    }\n",
       "</style>\n",
       "<table border=\"1\" class=\"dataframe\">\n",
       "  <thead>\n",
       "    <tr style=\"text-align: right;\">\n",
       "      <th></th>\n",
       "      <th>Year</th>\n",
       "      <th>Factor_dry</th>\n",
       "      <th>Factor_wet</th>\n",
       "      <th>Location</th>\n",
       "    </tr>\n",
       "    <tr>\n",
       "      <th>pendjari, porga</th>\n",
       "      <th></th>\n",
       "      <th></th>\n",
       "      <th></th>\n",
       "      <th></th>\n",
       "    </tr>\n",
       "  </thead>\n",
       "  <tbody>\n",
       "    <tr>\n",
       "      <th>0</th>\n",
       "      <td>1979</td>\n",
       "      <td>0.207052</td>\n",
       "      <td>-0.700000</td>\n",
       "      <td>pendjari, porga</td>\n",
       "    </tr>\n",
       "    <tr>\n",
       "      <th>1</th>\n",
       "      <td>1980</td>\n",
       "      <td>-0.219493</td>\n",
       "      <td>-0.200000</td>\n",
       "      <td>pendjari, porga</td>\n",
       "    </tr>\n",
       "    <tr>\n",
       "      <th>2</th>\n",
       "      <td>1981</td>\n",
       "      <td>-0.301790</td>\n",
       "      <td>0.050000</td>\n",
       "      <td>pendjari, porga</td>\n",
       "    </tr>\n",
       "    <tr>\n",
       "      <th>3</th>\n",
       "      <td>1982</td>\n",
       "      <td>0.032052</td>\n",
       "      <td>-0.181301</td>\n",
       "      <td>pendjari, porga</td>\n",
       "    </tr>\n",
       "    <tr>\n",
       "      <th>4</th>\n",
       "      <td>1983</td>\n",
       "      <td>-0.236201</td>\n",
       "      <td>0.373766</td>\n",
       "      <td>pendjari, porga</td>\n",
       "    </tr>\n",
       "    <tr>\n",
       "      <th>5</th>\n",
       "      <td>1984</td>\n",
       "      <td>-1.113721</td>\n",
       "      <td>0.437988</td>\n",
       "      <td>pendjari, porga</td>\n",
       "    </tr>\n",
       "  </tbody>\n",
       "</table>\n",
       "</div>"
      ],
      "text/plain": [
       "                 Year  Factor_dry  Factor_wet         Location\n",
       "pendjari, porga                                               \n",
       "0                1979    0.207052   -0.700000  pendjari, porga\n",
       "1                1980   -0.219493   -0.200000  pendjari, porga\n",
       "2                1981   -0.301790    0.050000  pendjari, porga\n",
       "3                1982    0.032052   -0.181301  pendjari, porga\n",
       "4                1983   -0.236201    0.373766  pendjari, porga\n",
       "5                1984   -1.113721    0.437988  pendjari, porga"
      ]
     },
     "metadata": {},
     "output_type": "display_data"
    },
    {
     "name": "stdout",
     "output_type": "stream",
     "text": [
      "no river segment found\n"
     ]
    }
   ],
   "source": [
    "output_coefficients_df = []\n",
    "for station_index in range(len(names)):\n",
    "    # get corresponding names\n",
    "    station_name = names[station_index]\n",
    "    station_precip = q_p_linking_dictionary[station_name]\n",
    "\n",
    "    # do geoanalysis\n",
    "    point_discharge = gdf_discharge_client.iloc[station_index].geometry.buffer(0.05)\n",
    "    selected_segement =  main_rivers[main_rivers.crosses(point_discharge)]\n",
    "    \n",
    "    if len(selected_segement) < 1:\n",
    "        print(\"no river segment found\")\n",
    "        # error in finding river segment, we stop\n",
    "    else:\n",
    "        # get the first segment to enter the buffer around the station\n",
    "        selected_location = main_rivers.loc[selected_segement.index[0],:]\n",
    "        # retreive the area\n",
    "        selected_basin_area = selected_location.UPLAND_SKM* 10**6  # km^2 -> m^2\n",
    "\n",
    "        # get precipitation\n",
    "        rainfall_selected_basin = Rainfall_BF_msum[[station_precip]].rename(columns={station_precip:\"P\"})\n",
    "        rainfall_selected_basin.P = rainfall_selected_basin.P * selected_basin_area / 1000 # mm/month * m^2 ->/1000 \n",
    "\n",
    "        # get evaporation\n",
    "        df_local_evaporation = df_temperature_msum[['evap']] * selected_basin_area / 1000 # mm/month * m^2 ->/1000 \n",
    "        df_local_evaporation.rename(columns={'evap':'E'},inplace=True)\n",
    "        \n",
    "        ### do initial compute, but E will be too high\n",
    "        combined_df = df_discharge_lst[station_index].copy()\n",
    "        combined_df[\"P\"] = rainfall_selected_basin[\"P\"]\n",
    "        combined_df[\"E\"] = df_local_evaporation[\"E\"]\n",
    "        combined_df[\"Diff\"] = combined_df[\"P\"] - combined_df[\"Q\"] - combined_df[\"E\"]\n",
    "        combined_df = combined_df.loc[combined_df.P.dropna().index] # remove lack of Precipitation data\n",
    "        # some cases no overlap in data\n",
    "        if len(combined_df) > 0:\n",
    "\n",
    "            lst_coefficients_dry = []\n",
    "            lst_coefficients_wet = []\n",
    "            for year in combined_df.index.year.unique():\n",
    "                if len(df_discharge_lst[station_index][f'{year}']) < 10: \n",
    "                    # remove year with too few observations\n",
    "                    pass\n",
    "                else:\n",
    "                    lst_dfs_fobj_input = [df_discharge_lst[station_index], rainfall_selected_basin, df_local_evaporation]\n",
    "                    sol = root(fobj_generalised, [0.1,0.3], args=(lst_dfs_fobj_input, year))\n",
    "                    lst_coefficients_dry.append(sol.x[0])\n",
    "                    lst_coefficients_wet.append(sol.x[1])\n",
    "#                     print(sol.x[0], sol.x[1])\n",
    "#                     df_fitted= fobj_generalised([sol.x[0],sol.x[1]], lst_dfs_fobj_input,year, True)\n",
    "                \n",
    "                \n",
    "\n",
    "            location_lst = [station_name for i in range(len(lst_coefficients_wet))]\n",
    "            output_df = pd.DataFrame(columns=['Year',\"Factor_dry\",\"Factor_wet\",\"Location\"],\n",
    "                                     data=list(zip(combined_df.index.year.unique(), lst_coefficients_dry,\n",
    "                                                   lst_coefficients_wet, location_lst)))\n",
    "            output_df.index.name = station_name\n",
    "            output_coefficients_df.append(output_df)\n",
    "            display(output_df)\n",
    "    "
   ]
  },
  {
   "cell_type": "code",
   "execution_count": 18,
   "id": "19d6b25c",
   "metadata": {},
   "outputs": [],
   "source": [
    "combined_factors = pd.concat(output_coefficients_df)\n",
    "combined_factors.sort_values(\"Year\",inplace=True)\n",
    "combined_factors.reset_index(inplace=True,drop=True)"
   ]
  },
  {
   "cell_type": "code",
   "execution_count": 19,
   "id": "a1a5576e",
   "metadata": {},
   "outputs": [
    {
     "data": {
      "text/plain": [
       "Text(0.5, 1.0, 'Results from different model fits with $\\\\mu_w$:0.3664,$\\\\mu_d$:0.1188')"
      ]
     },
     "execution_count": 19,
     "metadata": {},
     "output_type": "execute_result"
    },
    {
     "data": {
      "image/png": "[encoded data removed]",
      "text/plain": [
       "<Figure size 640x480 with 1 Axes>"
      ]
     },
     "metadata": {},
     "output_type": "display_data"
    }
   ],
   "source": [
    "fig, ax = plt.subplots(1)\n",
    "ax.plot(combined_factors[\"Year\"].values,combined_factors[\"Factor_dry\"].values,marker='.', lw=0,label=\"dry\")\n",
    "ax.plot(combined_factors[\"Year\"].values,combined_factors[\"Factor_wet\"].values,marker='.', lw=0,label=\"wet\")\n",
    "\n",
    "ax.set_ylim(0,1)\n",
    "# median_factor = combined_factors[\"Factor\"][combined_factors[\"Factor\"]>0.2].median()\n",
    "# ax.axhline(median_factor,color=\"g\",alpha=0.3)\n",
    "\n",
    "mean_factor_w = combined_factors[\"Factor_wet\"][combined_factors[\"Factor_wet\"]>0.0].mean()\n",
    "ax.axhline(mean_factor_w,color=\"r\",alpha=0.3,label=\"$\\mu_w$\")\n",
    "\n",
    "mean_factor_d = combined_factors[\"Factor_dry\"][combined_factors[\"Factor_dry\"]>0].mean()\n",
    "ax.axhline(mean_factor_d,color=\"lightskyblue\",alpha=0.3,label=\"$\\mu_d$\")\n",
    "\n",
    "\n",
    "ax.legend()\n",
    "ax.set_xlabel(\"year\")\n",
    "ax.set_ylabel(\"Factor Ea of Ep\")\n",
    "ax.set_title(f\"Results from different model fits with $\\mu_w$:{mean_factor_w:.4f},$\\mu_d$:{mean_factor_d:.4f}\")"
   ]
  },
  {
   "cell_type": "code",
   "execution_count": null,
   "id": "120557d2",
   "metadata": {},
   "outputs": [],
   "source": []
  }
 ],
 "metadata": {
  "kernelspec": {
   "display_name": "Python 3 (ipykernel)",
   "language": "python",
   "name": "python3"
  },
  "language_info": {
   "codemirror_mode": {
    "name": "ipython",
    "version": 3
   },
   "file_extension": ".py",
   "mimetype": "text/x-python",
   "name": "python",
   "nbconvert_exporter": "python",
   "pygments_lexer": "ipython3",
   "version": "3.11.0"
  }
 },
 "nbformat": 4,
 "nbformat_minor": 5
}
