{
 "cells": [
  {
   "cell_type": "markdown",
   "id": "5a51b11f-282a-41be-8fb0-73b0d4925573",
   "metadata": {},
   "source": [
    "### Rainfall data \n",
    "First part is repretition of the drought analysis but will be shown for completeness"
   ]
  },
  {
   "cell_type": "code",
   "execution_count": 1,
   "id": "bef53c26-a928-480c-b215-ac9c8379ea7c",
   "metadata": {},
   "outputs": [],
   "source": [
    "%matplotlib inline \n",
    "import glob\n",
    "import numpy as np \n",
    "import matplotlib \n",
    "import matplotlib.pyplot as plt\n",
    "import pandas as pd\n",
    "from matplotlib import image as mpimg\n",
    "from matplotlib.pyplot import figure\n",
    "from datetime import timedelta\n",
    "import scipy.stats as stats\n",
    "import os\n",
    "\n",
    "# plotting\n",
    "from shapely.geometry import Polygon\n",
    "import geopandas as gpd\n",
    "from geospatial_functions import get_background_map\n",
    "import rasterio\n",
    "from rasterio.plot import show as rioshow\n",
    "import folium\n",
    "\n",
    "\n",
    "path = os.getcwd()\n",
    "home_path = os.path.dirname(os.path.dirname(path))\n",
    "gis_folder = f'{home_path}\\\\QGIS project'"
   ]
  },
  {
   "cell_type": "markdown",
   "id": "1a1cedcf",
   "metadata": {},
   "source": [
    "easily read all text data files  with:"
   ]
  },
  {
   "cell_type": "code",
   "execution_count": 2,
   "id": "116ca951",
   "metadata": {},
   "outputs": [],
   "source": [
    "rainfall = pd.DataFrame()\n",
    "# Black_volta = -2.75E_9.50N\n",
    "# Lake_Volta 0.0E_6.5N\n",
    "# Mouhoun -4.00E_12.00N\n",
    "# Nakambe -2.0E_13.5N\n",
    "# Oti = 0.0E_8.5N\n",
    "# Penjari = 1.0E_11.0N\n",
    "# Ougadougou = -1.5E_12.4N"
   ]
  },
  {
   "cell_type": "code",
   "execution_count": 2,
   "id": "782fb7d0",
   "metadata": {},
   "outputs": [
    {
     "data": {
      "text/plain": [
       "['C:\\\\Users\\\\david\\\\Documents\\\\@@ Python\\\\Jaar 5\\\\Q3\\\\ENVM1400 Information and advice\\\\Volta project\\\\Volta-burkina-faso\\\\data\\\\Volta_precip_latest\\\\Black Volta_-2.75_9.55.csv',\n",
       " 'C:\\\\Users\\\\david\\\\Documents\\\\@@ Python\\\\Jaar 5\\\\Q3\\\\ENVM1400 Information and advice\\\\Volta project\\\\Volta-burkina-faso\\\\data\\\\Volta_precip_latest\\\\Lake Volta_0.05_6.45.csv',\n",
       " 'C:\\\\Users\\\\david\\\\Documents\\\\@@ Python\\\\Jaar 5\\\\Q3\\\\ENVM1400 Information and advice\\\\Volta project\\\\Volta-burkina-faso\\\\data\\\\Volta_precip_latest\\\\Mouhoun_-3.95_12.05.csv',\n",
       " 'C:\\\\Users\\\\david\\\\Documents\\\\@@ Python\\\\Jaar 5\\\\Q3\\\\ENVM1400 Information and advice\\\\Volta project\\\\Volta-burkina-faso\\\\data\\\\Volta_precip_latest\\\\Nakambe_-2.15_13.55.csv',\n",
       " 'C:\\\\Users\\\\david\\\\Documents\\\\@@ Python\\\\Jaar 5\\\\Q3\\\\ENVM1400 Information and advice\\\\Volta project\\\\Volta-burkina-faso\\\\data\\\\Volta_precip_latest\\\\Oti_0.15_8.45.csv',\n",
       " 'C:\\\\Users\\\\david\\\\Documents\\\\@@ Python\\\\Jaar 5\\\\Q3\\\\ENVM1400 Information and advice\\\\Volta project\\\\Volta-burkina-faso\\\\data\\\\Volta_precip_latest\\\\Pendjari_1.15_11.15.csv']"
      ]
     },
     "execution_count": 2,
     "metadata": {},
     "output_type": "execute_result"
    }
   ],
   "source": [
    "glob.glob(f'{home_path}\\\\data\\\\Volta_precip_latest\\*csv')"
   ]
  },
  {
   "cell_type": "code",
   "execution_count": 9,
   "id": "7e7e4f86-6297-4f9f-8f2d-a8752a1ce6c8",
   "metadata": {},
   "outputs": [],
   "source": [
    "lst_dfs = []\n",
    "for path in glob.glob(f'{home_path}\\\\data\\\\Volta_precip_latest\\*csv'):\n",
    "    df_input = pd.read_csv(path, parse_dates = [0], delimiter = ',', index_col=[0],skiprows=1,\n",
    "                  skipinitialspace = True, header = None, usecols=[0,1], names = ['Date','precipitation'])\n",
    "    \n",
    "    lst_dfs.append(df_input)"
   ]
  },
  {
   "cell_type": "code",
   "execution_count": 10,
   "id": "995df155-db1e-4454-a583-4d30c4fa8d0d",
   "metadata": {},
   "outputs": [],
   "source": [
    "names_col = ['Black_Volta', 'Lake_Volta','Mouhoun','Nakambe', 'Oti', 'Penjari'] \n",
    "Rainfall_data = pd.concat(lst_dfs, axis = 1,  keys = names_col,ignore_index=False)\n",
    "Rainfall_data.columns = Rainfall_data.columns.droplevel(level=1)"
   ]
  },
  {
   "cell_type": "code",
   "execution_count": 13,
   "id": "b439e19d",
   "metadata": {},
   "outputs": [
    {
     "data": {
      "text/plain": [
       "<AxesSubplot: xlabel='Date'>"
      ]
     },
     "execution_count": 13,
     "metadata": {},
     "output_type": "execute_result"
    },
    {
     "data": {
      "image/png": "[encoded data removed]",
      "text/plain": [
       "<Figure size 640x480 with 1 Axes>"
      ]
     },
     "metadata": {},
     "output_type": "display_data"
    }
   ],
   "source": [
    "Rainfall_data['Black_Volta'].plot()"
   ]
  },
  {
   "cell_type": "markdown",
   "id": "4f00e62e",
   "metadata": {},
   "source": [
    "# old data:"
   ]
  },
  {
   "cell_type": "code",
   "execution_count": null,
   "id": "1636741b",
   "metadata": {},
   "outputs": [],
   "source": []
  }
 ],
 "metadata": {
  "kernelspec": {
   "display_name": "Python 3 (ipykernel)",
   "language": "python",
   "name": "python3"
  },
  "language_info": {
   "codemirror_mode": {
    "name": "ipython",
    "version": 3
   },
   "file_extension": ".py",
   "mimetype": "text/x-python",
   "name": "python",
   "nbconvert_exporter": "python",
   "pygments_lexer": "ipython3",
   "version": "3.11.0"
  }
 },
 "nbformat": 4,
 "nbformat_minor": 5
}
