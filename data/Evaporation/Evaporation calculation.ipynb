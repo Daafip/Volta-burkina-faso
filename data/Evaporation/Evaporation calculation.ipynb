{
 "cells": [
  {
   "cell_type": "markdown",
   "id": "57b6c8f8",
   "metadata": {},
   "source": [
    "This notebook is used to compute the monthly evaporation based on the mean temperature, using the Thornthwaite equation. The only inputs required are the daily hours of sunlight and the monthly mean temperature (obtained from https://climateknowledgeportal.worldbank.org/country/burkina-faso/climate-data-historical). Running the package from this code requires some source code (.py files contained in a folder called 'pyeto'), which can be found in our git repository or through an internet search. see code below for further comments"
   ]
  },
  {
   "cell_type": "code",
   "execution_count": 1,
   "id": "fd3bf7d6",
   "metadata": {},
   "outputs": [],
   "source": [
    "import os"
   ]
  },
  {
   "cell_type": "code",
   "execution_count": 2,
   "id": "d1428c3d",
   "metadata": {
    "scrolled": true
   },
   "outputs": [
    {
     "data": {
      "text/plain": [
       "<module 'ntpath' (frozen)>"
      ]
     },
     "execution_count": 2,
     "metadata": {},
     "output_type": "execute_result"
    }
   ],
   "source": [
    "os.path"
   ]
  },
  {
   "cell_type": "code",
   "execution_count": 3,
   "id": "1ff06115",
   "metadata": {},
   "outputs": [],
   "source": [
    "# paste the folder called 'pyeto' into the file path shown above and continue running the code"
   ]
  },
  {
   "cell_type": "code",
   "execution_count": 4,
   "id": "58277e05",
   "metadata": {},
   "outputs": [],
   "source": [
    "from pyeto import thornthwaite, monthly_mean_daylight_hours, deg2rad"
   ]
  },
  {
   "cell_type": "code",
   "execution_count": 5,
   "id": "b0e9690c",
   "metadata": {},
   "outputs": [],
   "source": [
    "lat = deg2rad(12.933333) # latitude Burkina Faso"
   ]
  },
  {
   "cell_type": "code",
   "execution_count": 6,
   "id": "574947b8",
   "metadata": {},
   "outputs": [
    {
     "data": {
      "text/plain": [
       "[101.33185009989407,\n",
       " 160.30549570029987,\n",
       " 318.7704160668609,\n",
       " 394.7902922221564,\n",
       " 371.1799719267507,\n",
       " 246.19931261767402,\n",
       " 180.7136873442441,\n",
       " 150.06924195554444,\n",
       " 162.37749968843576,\n",
       " 212.33695366114102,\n",
       " 172.62613726717106,\n",
       " 110.1018444942052]"
      ]
     },
     "execution_count": 6,
     "metadata": {},
     "output_type": "execute_result"
    }
   ],
   "source": [
    "mmdlh = monthly_mean_daylight_hours(lat, 2022) # sunlight hours (low variability due to proximity to equator)\n",
    "monthly_t = [25.65,\n",
    "28.65,\n",
    "32.12,\n",
    "33.58,\n",
    "32.77,\n",
    "30.25,\n",
    "28.23,\n",
    "27.29,\n",
    "28.09,\n",
    "29.67,\n",
    "28.78,\n",
    "26.13\n",
    "] #CRU data (see climate data folder) on monthly mean temperature (1992-2022) used https://climateknowledgeportal.worldbank.org/country/burkina-faso/climate-data-historicals\n",
    "thornthwaite(monthly_t, mmdlh) #monthly potential evapo(transpi)ration (mm/month)"
   ]
  },
  {
   "cell_type": "code",
   "execution_count": null,
   "id": "40836bff",
   "metadata": {},
   "outputs": [],
   "source": []
  },
  {
   "cell_type": "code",
   "execution_count": null,
   "id": "494d6b76",
   "metadata": {},
   "outputs": [],
   "source": []
  }
 ],
 "metadata": {
  "kernelspec": {
   "display_name": "Python 3 (ipykernel)",
   "language": "python",
   "name": "python3"
  },
  "language_info": {
   "codemirror_mode": {
    "name": "ipython",
    "version": 3
   },
   "file_extension": ".py",
   "mimetype": "text/x-python",
   "name": "python",
   "nbconvert_exporter": "python",
   "pygments_lexer": "ipython3",
   "version": "3.11.0"
  }
 },
 "nbformat": 4,
 "nbformat_minor": 5
}
