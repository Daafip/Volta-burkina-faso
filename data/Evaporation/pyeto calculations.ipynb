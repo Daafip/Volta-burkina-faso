{
 "cells": [
  {
   "cell_type": "code",
   "execution_count": 24,
   "id": "39641b31",
   "metadata": {},
   "outputs": [
    {
     "ename": "ImportError",
     "evalue": "cannot import name 'thornthwaite' from 'PyETo' (unknown location)",
     "output_type": "error",
     "traceback": [
      "\u001b[1;31m---------------------------------------------------------------------------\u001b[0m",
      "\u001b[1;31mImportError\u001b[0m                               Traceback (most recent call last)",
      "\u001b[1;32m~\\AppData\\Local\\Temp\\ipykernel_25960\\1388340353.py\u001b[0m in \u001b[0;36m<module>\u001b[1;34m\u001b[0m\n\u001b[1;32m----> 1\u001b[1;33m \u001b[1;32mfrom\u001b[0m \u001b[0mPyETo\u001b[0m \u001b[1;32mimport\u001b[0m \u001b[0mthornthwaite\u001b[0m \u001b[1;31m#, monthly_mean_daylight_hours, deg2rad\u001b[0m\u001b[1;33m\u001b[0m\u001b[1;33m\u001b[0m\u001b[0m\n\u001b[0m",
      "\u001b[1;31mImportError\u001b[0m: cannot import name 'thornthwaite' from 'PyETo' (unknown location)"
     ]
    }
   ],
   "source": []
  },
  {
   "cell_type": "code",
   "execution_count": 20,
   "id": "df24fc27",
   "metadata": {},
   "outputs": [],
   "source": [
    "import os"
   ]
  },
  {
   "cell_type": "code",
   "execution_count": 23,
   "id": "86edd39a",
   "metadata": {},
   "outputs": [
    {
     "data": {
      "text/plain": [
       "<module 'ntpath' from 'C:\\\\Study Software\\\\anaconda python\\\\lib\\\\ntpath.py'>"
      ]
     },
     "execution_count": 23,
     "metadata": {},
     "output_type": "execute_result"
    }
   ],
   "source": [
    "os.path"
   ]
  },
  {
   "cell_type": "code",
   "execution_count": 25,
   "id": "1027d157",
   "metadata": {},
   "outputs": [],
   "source": [
    "from pyeto import thornthwaite, monthly_mean_daylight_hours, deg2rad"
   ]
  },
  {
   "cell_type": "code",
   "execution_count": 30,
   "id": "66d866a4",
   "metadata": {},
   "outputs": [],
   "source": [
    "lat = deg2rad(12.933333)"
   ]
  },
  {
   "cell_type": "code",
   "execution_count": 40,
   "id": "07e2fffa",
   "metadata": {},
   "outputs": [
    {
     "name": "stdout",
     "output_type": "stream",
     "text": [
      "[11.332532982769628, 11.586282034877467, 11.929648901504827, 12.297071973635678, 12.600517825364264, 12.748483528811569, 12.67645063293141, 12.41298972190436, 12.058160650081676, 11.69166324158896, 11.391214718687172, 11.250912077386493]\n"
     ]
    },
    {
     "data": {
      "text/plain": [
       "[101.33185009989407,\n",
       " 160.30549570029987,\n",
       " 318.7704160668609,\n",
       " 394.7902922221564,\n",
       " 371.1799719267507,\n",
       " 246.19931261767402,\n",
       " 180.7136873442441,\n",
       " 150.06924195554444,\n",
       " 162.37749968843576,\n",
       " 212.33695366114102,\n",
       " 172.62613726717106,\n",
       " 110.1018444942052]"
      ]
     },
     "execution_count": 40,
     "metadata": {},
     "output_type": "execute_result"
    }
   ],
   "source": [
    "mmdlh = monthly_mean_daylight_hours(lat, 2022)\n",
    "print(mmdlh)\n",
    "monthly_t = [25.65,\n",
    "28.65,\n",
    "32.12,\n",
    "33.58,\n",
    "32.77,\n",
    "30.25,\n",
    "28.23,\n",
    "27.29,\n",
    "28.09,\n",
    "29.67,\n",
    "28.78,\n",
    "26.13\n",
    "]\n",
    "thornthwaite(monthly_t, mmdlh)"
   ]
  }
 ],
 "metadata": {
  "kernelspec": {
   "display_name": "Python 3 (ipykernel)",
   "language": "python",
   "name": "python3"
  },
  "language_info": {
   "codemirror_mode": {
    "name": "ipython",
    "version": 3
   },
   "file_extension": ".py",
   "mimetype": "text/x-python",
   "name": "python",
   "nbconvert_exporter": "python",
   "pygments_lexer": "ipython3",
   "version": "3.9.12"
  }
 },
 "nbformat": 4,
 "nbformat_minor": 5
}
